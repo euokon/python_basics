{
 "cells": [
  {
   "cell_type": "markdown",
   "metadata": {},
   "source": [
    "# PYTHON TRAINING\n",
    "### FACILATOR: Michael Inyang"
   ]
  },
  {
   "cell_type": "markdown",
   "metadata": {},
   "source": [
    "TABLE OF CONTENT\n",
    "\n",
    "- PYTHON COLLECTION MODULE\n",
    "- OPENING AND READING A FILE\n",
    "- PYTHON DATETIME MODULE\n",
    "- PYTHON MATH AND RANDOM MODULE\n",
    "- TIMING YOUR PYTHON CODE\n",
    "\n",
    "\n"
   ]
  },
  {
   "cell_type": "markdown",
   "metadata": {},
   "source": [
    "The collection Module in Python provides different types of containers. A Container is an object that is used to store different objects and provide a way to access the contained objects and iterate over them. **This module implements specialized container datatypes providing alternatives to Python’s general purpose built-in containers, dict, list, set, and tuple.**"
   ]
  },
  {
   "cell_type": "markdown",
   "metadata": {},
   "source": [
    "These collection module includes:\n",
    "    \n",
    "    - Counters\n",
    "    - OrderedDict\n",
    "    - DefaultDict\n",
    "    - NamedTuple\n",
    "    - DeQue\n"
   ]
  },
  {
   "cell_type": "markdown",
   "metadata": {},
   "source": [
    "Counters: A counter is a sub-class of the dictionary. **It is used to keep the count of the elements in an iterable in the form of an unordered dictionary where the key represents the element in the iterable and value represents the count of that element in the iterable.**"
   ]
  },
  {
   "cell_type": "code",
   "execution_count": 2,
   "metadata": {},
   "outputs": [
    {
     "data": {
      "text/plain": [
       "Counter({'W': 1,\n",
       "         'e': 10,\n",
       "         'l': 4,\n",
       "         'c': 5,\n",
       "         'o': 10,\n",
       "         'm': 2,\n",
       "         ' ': 15,\n",
       "         't': 6,\n",
       "         'P': 2,\n",
       "         'y': 3,\n",
       "         'h': 2,\n",
       "         'n': 9,\n",
       "         'r': 2,\n",
       "         'a': 4,\n",
       "         'i': 5,\n",
       "         'g': 1,\n",
       "         's': 7,\n",
       "         ',': 1,\n",
       "         'd': 4,\n",
       "         \"'\": 1,\n",
       "         'w': 1,\n",
       "         'b': 1,\n",
       "         'f': 1,\n",
       "         'u': 1,\n",
       "         'v': 1,\n",
       "         'p': 1})"
      ]
     },
     "execution_count": 2,
     "metadata": {},
     "output_type": "execute_result"
    }
   ],
   "source": [
    "from collections import Counter \n",
    "\n",
    "# To use this feature, please endeavour to import it.\n",
    "\n",
    "Counter(\"Welcome to Python training series, today's lesson will be focused on some advanced concept in Python\")"
   ]
  },
  {
   "cell_type": "markdown",
   "metadata": {},
   "source": [
    "**DEQUE**\n",
    "\n",
    "Deques are a generalization of stacks and queues (the name is pronounced “deck” and is short for “double-ended queue”). **Deques support thread-safe, memory efficient appends and pops from either side of the deque with approximately the same performance in either direction.**\n",
    "\n",
    "If maxlen is not specified or is None, deques may grow to an arbitrary length. Otherwise, the deque is bounded to the specified maximum length. Once a bounded length deque is full, when new items are added, a corresponding number of items are discarded from the opposite end. Bounded length deques provide functionality similar to the tail filter in Unix. They are also useful for tracking transactions and other pools of data where only the most recent activity is of interest.\n"
   ]
  },
  {
   "cell_type": "markdown",
   "metadata": {},
   "source": [
    "**Deque objects support the following methods:**"
   ]
  },
  {
   "cell_type": "code",
   "execution_count": 54,
   "metadata": {},
   "outputs": [
    {
     "name": "stdout",
     "output_type": "stream",
     "text": [
      "B\n",
      "C\n",
      "D\n",
      "E\n",
      "F\n",
      "G\n"
     ]
    }
   ],
   "source": [
    "from collections import deque\n",
    "\n",
    "d = deque('bcdefg')                 # make a new deque with four items\n",
    "\n",
    "for elem in d:                   # iterate over the deque's elements\n",
    "    print(elem.upper())"
   ]
  },
  {
   "cell_type": "code",
   "execution_count": 55,
   "metadata": {},
   "outputs": [
    {
     "name": "stdout",
     "output_type": "stream",
     "text": [
      "deque(['b', 'c', 'd', 'e', 'f', 'g', 'h'])\n"
     ]
    }
   ],
   "source": [
    "\"\"\"append(x) \n",
    "Add x to the right side of the deque\n",
    "\"\"\"\n",
    "\n",
    "d.append('h')\n",
    "\n",
    "print(d)"
   ]
  },
  {
   "cell_type": "code",
   "execution_count": 56,
   "metadata": {},
   "outputs": [
    {
     "name": "stdout",
     "output_type": "stream",
     "text": [
      "deque(['a', 'b', 'c', 'd', 'e', 'f', 'g', 'h'])\n"
     ]
    }
   ],
   "source": [
    "\"\"\"appendleft(x)\n",
    "Add x to the left side of the deque.\"\"\"\n",
    "\n",
    "\n",
    "d.appendleft('a')\n",
    "\n",
    "print(d)"
   ]
  },
  {
   "cell_type": "code",
   "execution_count": 57,
   "metadata": {},
   "outputs": [
    {
     "name": "stdout",
     "output_type": "stream",
     "text": [
      "deque(['a', 'b', 'c', 'd', 'e', 'f', 'g'])\n"
     ]
    }
   ],
   "source": [
    "\"\"\" pop()\n",
    "Remove and return an element from the right side of the deque. If no elements are present, raises an IndexError.\"\"\"\n",
    "\n",
    "d.pop()\n",
    "\n",
    "print(d)"
   ]
  },
  {
   "cell_type": "code",
   "execution_count": 58,
   "metadata": {},
   "outputs": [
    {
     "name": "stdout",
     "output_type": "stream",
     "text": [
      "deque(['b', 'c', 'd', 'e', 'f', 'g'])\n"
     ]
    }
   ],
   "source": [
    "\"\"\" popleft()\n",
    "Remove and return an element from the left side of the deque. If no elements are present, raises an IndexError.\"\"\"\n",
    "\n",
    "d.popleft()\n",
    "\n",
    "print(d)"
   ]
  },
  {
   "cell_type": "code",
   "execution_count": 59,
   "metadata": {},
   "outputs": [
    {
     "name": "stdout",
     "output_type": "stream",
     "text": [
      "deque(['b', 'c', 'd', 'f', 'g'])\n"
     ]
    }
   ],
   "source": [
    "\"\"\"remove(value)\n",
    "Remove the first occurrence of value. If not found, raises a ValueError.\"\"\"\n",
    "\n",
    "d.remove('e')\n",
    "\n",
    "print(d)"
   ]
  },
  {
   "cell_type": "code",
   "execution_count": 62,
   "metadata": {},
   "outputs": [
    {
     "name": "stdout",
     "output_type": "stream",
     "text": [
      "deque(['Audi', 'Range Rover', 'Benz', 'b', 'c', 'd', 'f', 'g', 'mike', 'john', 'Man', 'mike', 'john', 'Man'])\n"
     ]
    }
   ],
   "source": [
    "\"\"\"extend(iterable)\n",
    "Extend the right side of the deque by appending elements from the iterable argument. \"\"\"\n",
    "\n",
    "# Having duplicate on the right hand side because this block was complied three times.\n",
    "\n",
    "name = ['mike', 'john', 'Man']\n",
    "\n",
    "d.extend(name)\n",
    "\n",
    "print(d)"
   ]
  },
  {
   "cell_type": "code",
   "execution_count": 63,
   "metadata": {},
   "outputs": [
    {
     "name": "stdout",
     "output_type": "stream",
     "text": [
      "deque(['Audi', 'Range Rover', 'Benz', 'Audi', 'Range Rover', 'Benz', 'b', 'c', 'd', 'f', 'g', 'mike', 'john', 'Man', 'mike', 'john', 'Man'])\n"
     ]
    }
   ],
   "source": [
    "\"\"\"extendleft(iterable)\n",
    "Extend the left side of the deque by appending elements from iterable. \n",
    "Note, the series of left appends results in reversing the order of elements in the iterable argument.\"\"\"\n",
    "\n",
    "cars = ['Benz', 'Range Rover', 'Audi']\n",
    "d.extendleft(cars)\n",
    "\n",
    "print(d)\n",
    "\n"
   ]
  },
  {
   "cell_type": "code",
   "execution_count": 64,
   "metadata": {},
   "outputs": [
    {
     "name": "stdout",
     "output_type": "stream",
     "text": [
      "deque(['Man', 'john', 'mike', 'Man', 'john', 'mike', 'g', 'f', 'd', 'c', 'b', 'Benz', 'Range Rover', 'Audi', 'Benz', 'Range Rover', 'Audi'])\n"
     ]
    }
   ],
   "source": [
    "\"\"\" reverse()\n",
    "Reverse the elements of the deque in-place and then return None.\n",
    "\n",
    "New in version 3.2.\"\"\"\n",
    "\n",
    "d.reverse()\n",
    "\n",
    "print(d)"
   ]
  },
  {
   "cell_type": "code",
   "execution_count": 65,
   "metadata": {},
   "outputs": [
    {
     "name": "stdout",
     "output_type": "stream",
     "text": [
      "deque(['Man', 'john', 'mike', 'Man', 'john', 'mike', 'g', 'f', 'd', 'h', 'c', 'b', 'Benz', 'Range Rover', 'Audi', 'Benz', 'Range Rover', 'Audi'])\n"
     ]
    }
   ],
   "source": [
    "\"\"\" insert(i, x)\n",
    "Insert x into the deque at position i.\n",
    "\n",
    "If the insertion would cause a bounded deque to grow beyond maxlen, an IndexError is raised.\n",
    "\n",
    "New in version 3.5.\"\"\"\n",
    "\n",
    "# in case you are wondering why i have two h; i inserted it at two index position, (8 and 9).\n",
    "\n",
    "d.insert(9, 'h')\n",
    "print(d)"
   ]
  },
  {
   "cell_type": "code",
   "execution_count": 66,
   "metadata": {},
   "outputs": [
    {
     "name": "stdout",
     "output_type": "stream",
     "text": [
      "deque([])\n"
     ]
    }
   ],
   "source": [
    "\"\"\"clear()\n",
    "Remove all elements from the deque leaving it with length 0.\"\"\"\n",
    "\n",
    "d.clear()\n",
    "\n",
    "print(d)"
   ]
  },
  {
   "cell_type": "markdown",
   "metadata": {},
   "source": [
    "**defaultdict**\n",
    "\n",
    "\n",
    "Return a new dictionary-like object. defaultdict is a subclass of the built-in dict class. It overrides one method and adds one writable instance variable. The remaining functionality is the same as for the dict class and is not documented here.\n",
    "\n",
    "The first argument provides the initial value for the default_factory attribute; it defaults to None. All remaining arguments are treated the same as if they were passed to the dict constructor, including keyword arguments.\n",
    "\n",
    "\n",
    "**defaultdict objects support the following method in addition to the standard dict operations:**\n",
    "\n",
    "**__missing__(key)**\n",
    "\n",
    "If the default_factory attribute is None, this raises a KeyError exception with the key as argument.\n",
    "\n",
    "If default_factory is not None, it is called without arguments to provide a default value for the given key, this value is inserted in the dictionary for the key, and returned.\n",
    "\n",
    "If calling default_factory raises an exception this exception is propagated unchanged.\n",
    "\n",
    "This method is called by the __getitem__() method of the dict class when the requested key is not found; whatever it returns or raises is then returned or raised by __getitem__().\n",
    "\n",
    "Note that __missing__() is not called for any operations besides __getitem__(). This means that get() will, like normal dictionaries, return None as a default rather than using default_factory.\n",
    "\n",
    "**defaultdict objects support the following instance variable:**\n",
    "\n",
    "--default_factory\n",
    "This attribute is used by the __missing__() method; it is initialized from the first argument to the constructor, if present, or to None, if absent.\n"
   ]
  },
  {
   "cell_type": "code",
   "execution_count": 67,
   "metadata": {},
   "outputs": [
    {
     "data": {
      "text/plain": [
       "[('blue', [2, 4]), ('red', [1]), ('yellow', [1, 3])]"
      ]
     },
     "execution_count": 67,
     "metadata": {},
     "output_type": "execute_result"
    }
   ],
   "source": [
    "from collections import defaultdict\n",
    "\n",
    "\"\"\"Using list as the default_factory, it is easy to group a sequence of key-value pairs into a dictionary of lists\"\"\"\n",
    "\n",
    "\"\"\"When each key is encountered for the first time, it is not already in the mapping; so an entry is automatically created using the default_factory function which returns an empty list. \n",
    "The list.append() operation then attaches the value to the new list. \n",
    "When keys are encountered again, the look-up proceeds normally (returning the list for that key) and the list.append() operation adds another value to the list.\"\"\"\n",
    "\n",
    "s = [('yellow', 1), ('blue', 2), ('yellow', 3), ('blue', 4), ('red', 1)]\n",
    "d = defaultdict(list)\n",
    "for k, v in s:\n",
    "    d[k].append(v)\n",
    "    \n",
    "\n",
    "sorted(d.items())\n",
    "\n"
   ]
  },
  {
   "cell_type": "code",
   "execution_count": 68,
   "metadata": {},
   "outputs": [
    {
     "data": {
      "text/plain": [
       "[('i', 4), ('m', 1), ('p', 2), ('s', 4)]"
      ]
     },
     "execution_count": 68,
     "metadata": {},
     "output_type": "execute_result"
    }
   ],
   "source": [
    "from collections import defaultdict\n",
    "\n",
    "\"\"\"Setting the default_factory to int makes the defaultdict useful for counting (like a bag or multiset in other languages).\"\"\"\n",
    "\n",
    "\n",
    "s = 'mississippi'\n",
    "d = defaultdict(int)\n",
    "\n",
    "for k in s:\n",
    "    #d[k] += 1\n",
    "    d[k] = d[k] + 1\n",
    "    \n",
    "sorted(d.items())"
   ]
  },
  {
   "cell_type": "markdown",
   "metadata": {},
   "source": [
    "**namedtuple**\n",
    "\n",
    "\n",
    "You might already be acquainted with tuples. A tuple is basically a immutable list which allows you to store a sequence of values separated by commas. They are just like lists but have a few key differences. The major one is that unlike lists, you can not reassign an item in a tuple. In order to access the value in a tuple you use integer indexes.\n",
    "\n",
    "Well, so now what are **namedtuples?** They turn tuples into convenient containers for simple tasks. **With namedtuples you don’t have to use integer indexes for accessing members of a tuple (although backward compatible makes this possible). You can think of namedtuples like dictionaries but unlike dictionaries they are immutable.**\n",
    "\n"
   ]
  },
  {
   "cell_type": "code",
   "execution_count": 69,
   "metadata": {},
   "outputs": [
    {
     "name": "stdout",
     "output_type": "stream",
     "text": [
      "Animal(name='Night Shark', age=7, type='Dog', height=5.6)\n"
     ]
    }
   ],
   "source": [
    "from collections import namedtuple\n",
    "\n",
    "# Example with namedtuple\n",
    "\n",
    "Animal = namedtuple('Animal', 'name age type height')\n",
    "pet = Animal(name=\"Night Shark\", age=7, type=\"Dog\", height=5.6)\n",
    "\n",
    "print(pet)"
   ]
  },
  {
   "cell_type": "code",
   "execution_count": 70,
   "metadata": {},
   "outputs": [
    {
     "name": "stdout",
     "output_type": "stream",
     "text": [
      "Night Shark\n"
     ]
    }
   ],
   "source": [
    "\"\"\"You can now see that we can access members of a tuple just by their name using a .\n",
    "Let’s dissect it a little more. A named tuple has two required arguments. \n",
    "They are the tuple name and the tuple field_names. \n",
    "In the above example our tuple name was ‘Animal’ and the tuple field_names were ‘name’, ‘age’ and ‘type’. \n",
    "Namedtuple makes your tuples self-document. \"\"\"\n",
    "\n",
    "print(pet.name)"
   ]
  },
  {
   "cell_type": "code",
   "execution_count": 71,
   "metadata": {},
   "outputs": [
    {
     "name": "stdout",
     "output_type": "stream",
     "text": [
      "37\n"
     ]
    }
   ],
   "source": [
    "\"\"\"You should use named tuples to make your code self-documenting. \n",
    "They are backwards compatible with normal tuples. \n",
    "It means that you can use integer indexes with namedtuples as well\"\"\"\n",
    "\n",
    "\n",
    "from collections import namedtuple\n",
    "\n",
    "Black_African = namedtuple('Black_African', 'name age complexion')\n",
    "homo_sapien = Black_African(name=\"Alicho\", age=37, complexion=\"Deep black\")\n",
    "print(homo_sapien[1])"
   ]
  },
  {
   "cell_type": "code",
   "execution_count": 72,
   "metadata": {},
   "outputs": [
    {
     "name": "stdout",
     "output_type": "stream",
     "text": [
      "{'name': 'Alicho', 'age': 37, 'complexion': 'Deep black'}\n"
     ]
    }
   ],
   "source": [
    "\"\"\"You can convert a namedtuple to a dictionary.\"\"\"\n",
    "\n",
    "\n",
    "from collections import namedtuple\n",
    "\n",
    "Black_African = namedtuple('Black_African', 'name age complexion')\n",
    "homo_sapien = Black_African(name=\"Alicho\", age=37, complexion=\"Deep black\")\n",
    "\n",
    "print(homo_sapien._asdict())"
   ]
  },
  {
   "cell_type": "markdown",
   "metadata": {},
   "source": [
    "**OrderedDict objects**\n",
    "\n",
    "Ordered dictionaries are just like regular dictionaries but have some extra capabilities relating to ordering operations. They have become less important now that the built-in dict class gained the ability to remember insertion order (this new behavior became guaranteed in Python 3.7).\n",
    "\n",
    "**Some differences from dict still remain:**\n",
    "\n",
    "-- The regular dict was designed to be very good at mapping operations. Tracking insertion order was secondary.\n",
    "\n",
    "-- The OrderedDict was designed to be good at reordering operations. Space efficiency, iteration speed, and the performance of update operations were secondary.\n",
    "\n",
    "-- Algorithmically, OrderedDict can handle frequent reordering operations better than dict. This makes it suitable for tracking recent accesses.\n",
    "\n",
    "-- The equality operation for OrderedDict checks for matching order.\n",
    "\n",
    "-- The popitem() method of OrderedDict has a different signature. It accepts an optional argument to specify which item is popped.\n",
    "\n",
    "-- OrderedDict has a move_to_end() method to efficiently reposition an element to an endpoint.\n",
    "\n",
    "-- Until Python 3.8, dict lacked a __reversed__() method."
   ]
  },
  {
   "cell_type": "code",
   "execution_count": 18,
   "metadata": {},
   "outputs": [
    {
     "name": "stdout",
     "output_type": "stream",
     "text": [
      "Range Rover Velar 320\n",
      "Danfo 180\n",
      "Audi SQ5 300\n",
      "Benz GLS3 360\n"
     ]
    }
   ],
   "source": [
    "# This is a normal dictionary\n",
    "\n",
    "cars =  {\"Range Rover Velar\" : 320, \"Danfo\" : 180, \"Audi SQ5\" : 300, \"Benz GLS3\" : 360}\n",
    "for key, value in cars.items():\n",
    "    print(key, value)"
   ]
  },
  {
   "cell_type": "markdown",
   "metadata": {},
   "source": [
    "**class collections.OrderedDict([items])**\n",
    "Return an instance of a dict subclass that has methods specialized for rearranging dictionary order.\n",
    "\n",
    "New in version 3.1.\n",
    "\n",
    "**Methods supported with the OrderedDict**\n",
    "\n",
    "*popitem(last=True)\n",
    "\n",
    "The popitem() method for ordered dictionaries returns and removes a (key, value) pair. \n",
    "**The pairs are returned in LIFO order if last is true or FIFO order if false.**\n",
    "\n",
    "*move_to_end(key, last=True)\n",
    "\n",
    "Move an existing key to either end of an ordered dictionary. \n",
    "**The item is moved to the right end if last is true (the default) or to the beginning if last is false. Raises KeyError if the key does not exist:**"
   ]
  },
  {
   "cell_type": "code",
   "execution_count": 74,
   "metadata": {},
   "outputs": [
    {
     "name": "stdout",
     "output_type": "stream",
     "text": [
      "Red 198\n",
      "Green 170\n",
      "Blue 160\n",
      "Pink 90\n"
     ]
    }
   ],
   "source": [
    "from collections import OrderedDict\n",
    "\n",
    "colours = OrderedDict([(\"Red\", 198), (\"Green\", 170), (\"Blue\", 160), (\"Pink\", 90)])\n",
    "for key, value in colours.items():\n",
    "    \n",
    "    print(key, value)"
   ]
  },
  {
   "cell_type": "code",
   "execution_count": 75,
   "metadata": {},
   "outputs": [
    {
     "name": "stdout",
     "output_type": "stream",
     "text": [
      "OrderedDict([('Red', 198), ('Green', 170), ('Pink', 90), ('Blue', 160)])\n"
     ]
    }
   ],
   "source": [
    "# Used to move a key and it's associated value to the right(end)\n",
    "colours.move_to_end(\"Blue\")\n",
    "\n",
    "print(colours)"
   ]
  },
  {
   "cell_type": "code",
   "execution_count": 76,
   "metadata": {},
   "outputs": [
    {
     "name": "stdout",
     "output_type": "stream",
     "text": [
      "OrderedDict([('Green', 170), ('Red', 198), ('Pink', 90), ('Blue', 160)])\n"
     ]
    }
   ],
   "source": [
    "# Used to move a key and it's associated value to the left(end)\n",
    "colours.move_to_end(\"Green\", last=False)\n",
    "\n",
    "print(colours)"
   ]
  },
  {
   "cell_type": "code",
   "execution_count": 77,
   "metadata": {},
   "outputs": [
    {
     "name": "stdout",
     "output_type": "stream",
     "text": [
      "OrderedDict([('Green', 170), ('Red', 198), ('Pink', 90)])\n"
     ]
    }
   ],
   "source": [
    "# used to remove the last element on the right \n",
    "colours.popitem()\n",
    "\n",
    "print(colours)"
   ]
  },
  {
   "cell_type": "code",
   "execution_count": 78,
   "metadata": {},
   "outputs": [
    {
     "name": "stdout",
     "output_type": "stream",
     "text": [
      "OrderedDict([('Red', 198), ('Pink', 90)])\n"
     ]
    }
   ],
   "source": [
    "# Used to remove the last element from the left\n",
    "colours.popitem(last=False)\n",
    "\n",
    "print(colours)"
   ]
  },
  {
   "cell_type": "code",
   "execution_count": null,
   "metadata": {},
   "outputs": [],
   "source": []
  },
  {
   "cell_type": "markdown",
   "metadata": {},
   "source": [
    "**FILE OPERATIONS (Opening and reading a file)**\n",
    "\n",
    "\n",
    "Filename: The path to your file or, if the file is in the working directory, the filename of your file\n",
    "access_mode.\n",
    "A string value that determines how the file is opened.\n",
    "\n",
    "**N/B:** When it comes to storing, reading, or communicating data, working with the files of an operating system is both\n",
    "necessary and easy with Python. Unlike other languages where file input and output requires complex reading and\n",
    "writing objects, Python simplifies the process only needing commands to open, read/write and close the file. This\n",
    "topic explains how Python can interface with files on the operating system.\n",
    "\n",
    "\n",
    "**FILE MODES**\n",
    "\n",
    "**There are different modes you can open a file with, specified by the mode parameter. These include:**\n",
    "\n",
    "**'r': reading mode. The default. It allows you only to read the file, not to modify it. When using this mode the\n",
    "file must exist.**\n",
    "\n",
    "**'w': writing mode. It will create a new file if it does not exist, otherwise will erase the file and allow you to\n",
    "write to it.**\n",
    "\n",
    "**'a' - append mode. It will write data to the end of the file. It does not erase the file, and the file must exist for\n",
    "this mode.**\n",
    "\n"
   ]
  },
  {
   "cell_type": "code",
   "execution_count": 79,
   "metadata": {},
   "outputs": [],
   "source": [
    "\"\"\"Writing to a text file\"\"\"\n",
    "\n",
    "\n",
    "world_cup_teams = open('World_cup_teams.txt', 'w')  # file name = World_cup_teams.txt, w is the supported operation\n",
    "world_cup_teams.write('Italy\\n')\n",
    "world_cup_teams.write('Germany\\n')\n",
    "world_cup_teams.write('Spain\\n')\n",
    "world_cup_teams.write('Nigeria\\n')\n",
    "\n",
    "world_cup_teams.close()"
   ]
  },
  {
   "cell_type": "code",
   "execution_count": 82,
   "metadata": {},
   "outputs": [
    {
     "name": "stdout",
     "output_type": "stream",
     "text": [
      "Italy\n",
      "Germany\n",
      "Spain\n",
      "Nigeria\n",
      "France\n",
      "Brazil\n",
      "\n"
     ]
    }
   ],
   "source": [
    "# Reading from a text file\n",
    "\n",
    "file = open('World_cup_teams.txt', 'r')\n",
    "print(file.read())"
   ]
  },
  {
   "cell_type": "code",
   "execution_count": 81,
   "metadata": {},
   "outputs": [],
   "source": [
    "# Appending to the current text file\n",
    "\n",
    "file = open('World_cup_teams.txt', 'a')\n",
    "file.write('France\\n')\n",
    "file.write('Brazil\\n')\n",
    "file.close()"
   ]
  },
  {
   "cell_type": "markdown",
   "metadata": {},
   "source": [
    "**Python Date Time Module**\n",
    "\n",
    "\n",
    "In Python, date and time are not a data type of their own, but a module named datetime can be imported to work with the date as well as time. **Python Datetime module comes built into Python, so there is no need to install it externally.** \n",
    "\n",
    "Python Datetime module supplies classes to work with date and time. These classes provide a number of functions to deal with dates, times and time intervals. **Date and datetime are an object in Python, so when you manipulate them, you are actually manipulating objects and not string or timestamps.** \n",
    "\n",
    "\n",
    "**The DateTime module is categorized into 6 main classes** \n",
    "\n",
    "**date** – An idealized naive date, assuming the current Gregorian calendar always was, and always will be, in effect. **Its attributes are year, month and day.**\n",
    "\n",
    "**time** – An idealized time, independent of any particular day, assuming that every day has exactly 24*60*60 seconds (86,400). **Its attributes are hour, minute, second, microsecond, and tzinfo.**\n",
    "\n",
    "**datetime** – Its a combination of date and time along with the attributes **year, month, day, hour, minute, second, microsecond, and tzinfo.**\n",
    "\n",
    "**timedelta** – A duration expressing the difference between two date, time, or datetime instances to microsecond resolution.\n",
    "\n",
    "**tzinfo** – It provides time zone information objects.\n",
    "\n",
    "**timezone** – A class that implements the tzinfo abstract base class as a fixed offset from the UTC (New in version 3.2)."
   ]
  },
  {
   "cell_type": "code",
   "execution_count": 83,
   "metadata": {},
   "outputs": [
    {
     "name": "stdout",
     "output_type": "stream",
     "text": [
      "Today: 2022-01-28\n",
      "Yesterday: 2022-01-27\n",
      "Tomorrow: 2022-01-29\n",
      "Time between tomorrow and yesterday: 2 days, 0:00:00\n",
      "Feburary begins on  2022-02-01\n"
     ]
    }
   ],
   "source": [
    "import datetime\n",
    "# simple date time calculation\n",
    "\n",
    "today = datetime.date.today()\n",
    "print('Today:', today)\n",
    "\n",
    "yesterday = today - datetime.timedelta(days=1)\n",
    "print('Yesterday:', yesterday)\n",
    "\n",
    "tomorrow = today + datetime.timedelta(days=1)\n",
    "\n",
    "feburary = today + datetime.timedelta(days=4)\n",
    "\n",
    "\n",
    "print('Tomorrow:', tomorrow)\n",
    "print('Time between tomorrow and yesterday:', tomorrow - yesterday)\n",
    "print(\"Feburary begins on \", feburary)\n"
   ]
  },
  {
   "cell_type": "code",
   "execution_count": 84,
   "metadata": {},
   "outputs": [],
   "source": [
    "import datetime \n",
    "\n",
    "# The function below takes your name as a string and your year of birth as integer\n",
    "def age_calculator(name, y_o_b):\n",
    "    \n",
    "    \"\"\"Using Python datetime module for age calculation\"\"\"\n",
    "    current_year = datetime.datetime.now().year\n",
    "    current_age = current_year - y_o_b\n",
    "    print(\"Hello \" + name)\n",
    "    \n",
    "    return print(f\"You will be {current_age} Years old this year\")\n",
    "   "
   ]
  },
  {
   "cell_type": "code",
   "execution_count": 86,
   "metadata": {},
   "outputs": [
    {
     "name": "stdout",
     "output_type": "stream",
     "text": [
      "Hello Michael Inyang\n",
      "You will be 62 Years old this year\n"
     ]
    }
   ],
   "source": [
    "age_calculator(\"Michael Inyang\", 1960)"
   ]
  },
  {
   "cell_type": "markdown",
   "metadata": {},
   "source": [
    "**Python math Module**\n",
    "\n",
    "Python has a built-in module that you can use for mathematical tasks.\n",
    "\n",
    "The math module has a set of methods and constants.\n",
    "\n",
    "Math module provides functions to deal with both basic operations such as addition(+), subtraction(-), multiplication(*), division(/) and advance operations like trigonometric, logarithmic, exponential functions.\n",
    "\n",
    "**N/B: Discussing all the methods that is present in the module is beyond the scope of this presentation**"
   ]
  },
  {
   "cell_type": "code",
   "execution_count": 93,
   "metadata": {},
   "outputs": [],
   "source": [
    "import math\n",
    "\n",
    "\n",
    "x = 56.99\n",
    "\n",
    "y = 123.009123\n",
    "\n",
    "# used for round up operations\n",
    "#math.ceil(x) \n",
    "#math.ceil(y) \n",
    "\n",
    "#used to get the whole number\n",
    "#math.trunc(x) \n",
    "#math.trunc(y) \n",
    "\n",
    "#used to calculate Hypothenus\n",
    "#math.hypot(2, 4) # Just a shorthand for SquareRoot(2**2 + 4**2)\n",
    "\n",
    "#used to convert from degree to radian\n",
    "#math.radians(45) \n",
    "\n",
    "\n",
    "#used Sine operation\n",
    "#math.sin(math.pi / 2)\n",
    "\n",
    "#used Cosine operation\n",
    "#math.cos(math.pi / 2)\n",
    "\n",
    "\n"
   ]
  },
  {
   "cell_type": "markdown",
   "metadata": {},
   "source": [
    "**Python random module**\n",
    "\n",
    "Python Random module is an in-built module of Python which is used to generate random numbers. These are pseudo-random numbers means these are not truly random. This module can be used to perform random actions such as generating random numbers, print random a value for a list or string, etc.\n",
    "\n",
    "**N/B: Discussing all the methods that is present in the module is beyond the scope of this presentation**"
   ]
  },
  {
   "cell_type": "code",
   "execution_count": 94,
   "metadata": {},
   "outputs": [
    {
     "name": "stdout",
     "output_type": "stream",
     "text": [
      "forest green\n"
     ]
    }
   ],
   "source": [
    "import random\n",
    "\n",
    "# use to make a random choice\n",
    "\n",
    "colour = random.choice(['red', 'black', 'green', 'yellow', 'orange', 'white', 'royal blue', 'forest green'])\n",
    "print(colour)"
   ]
  },
  {
   "cell_type": "code",
   "execution_count": 3,
   "metadata": {},
   "outputs": [
    {
     "name": "stdout",
     "output_type": "stream",
     "text": [
      "89\n"
     ]
    }
   ],
   "source": [
    "import random \n",
    "\n",
    "#Used in printing random integer from 1-99\n",
    "num = random.randint(1,100)\n",
    "print(num)"
   ]
  },
  {
   "cell_type": "code",
   "execution_count": 5,
   "metadata": {},
   "outputs": [
    {
     "name": "stdout",
     "output_type": "stream",
     "text": [
      "Enter (h)ead or (t)ail: t\n",
      "Bad luck\n",
      "it was a head\n"
     ]
    }
   ],
   "source": [
    "import random\n",
    "\n",
    "# prediction game with python random module\n",
    "\n",
    "coin = random.choice(['h', 't'])\n",
    "guess = input('Enter (h)ead or (t)ail: ')\n",
    "if guess == coin:\n",
    "    print('you win')\n",
    "else:\n",
    "    print('Bad luck')\n",
    "if coin == 'h':\n",
    "    print('it was a head')\n",
    "else:\n",
    "    print('it was tail')"
   ]
  },
  {
   "cell_type": "code",
   "execution_count": null,
   "metadata": {},
   "outputs": [
    {
     "name": "stdout",
     "output_type": "stream",
     "text": [
      "Enter a number between 1-9: 5\n",
      "Enter a number between 1-9: 2\n",
      "Enter a number between 1-9: 9\n",
      "Enter a number between 1-9: 1\n",
      "Enter a number between 1-9: 7\n",
      "Enter a number between 1-9: 2\n",
      "Enter a number between 1-9: 6\n",
      "Enter a number between 1-9: 6\n",
      "Enter a number between 1-9: 1\n"
     ]
    }
   ],
   "source": [
    "import random\n",
    "\n",
    "# guessing game to get a correct integer between 1-9\n",
    "num = random.randint(1, 10)\n",
    "correct = False\n",
    "while correct == False:\n",
    "    guess = int(input('Enter a number between 1-9: '))\n",
    "    if guess == num:\n",
    "        correct = True\n",
    "        print(\"You are correct, get your cash prize from DAO.\")"
   ]
  },
  {
   "cell_type": "code",
   "execution_count": 1,
   "metadata": {},
   "outputs": [],
   "source": [
    "import random as r\n",
    "\n",
    "# function for otp generation\n",
    "def otpgen(name):\n",
    "    \"\"\"Python Program for simple OTP genertaor\"\"\"\n",
    "    otp = \"\"\n",
    "    for i in range(6):\n",
    "        otp = otp + str(r.randint(1,9))\n",
    "    return print(name, \"Your One Time Password is:\", otp)"
   ]
  },
  {
   "cell_type": "code",
   "execution_count": 2,
   "metadata": {},
   "outputs": [
    {
     "name": "stdout",
     "output_type": "stream",
     "text": [
      "Peter Hawk Your One Time Password is: 347941\n"
     ]
    }
   ],
   "source": [
    "otpgen(\"Peter Hawk\")"
   ]
  },
  {
   "cell_type": "markdown",
   "metadata": {},
   "source": [
    "**Timing your Python code**\n",
    "\n",
    "\n",
    "Below are examples of how to time our code."
   ]
  },
  {
   "cell_type": "code",
   "execution_count": 3,
   "metadata": {},
   "outputs": [
    {
     "name": "stdout",
     "output_type": "stream",
     "text": [
      "The result is 456569 digits long.\n",
      "Took 2.1694705486297607 seconds to calculate.\n"
     ]
    }
   ],
   "source": [
    "import time\n",
    "\n",
    "def calcProd():\n",
    " # Calculate the product of the first 100,000 numbers.\n",
    "    product = 1\n",
    "    for i in range(1, 100000):\n",
    "         product = product * i\n",
    "    return product\n",
    "\n",
    "startTime = time.time()\n",
    "prod = calcProd()\n",
    "endTime = time.time()\n",
    "print('The result is %s digits long.' % (len(str(prod))))\n",
    "print('Took %s seconds to calculate.' % (endTime - startTime))\n"
   ]
  },
  {
   "cell_type": "code",
   "execution_count": 4,
   "metadata": {},
   "outputs": [
    {
     "name": "stdout",
     "output_type": "stream",
     "text": [
      "Please enter your name: Peter\n",
      "Please enter your email address: peter@yahoo.com\n",
      "Hello  Peter Your details have been taken\n",
      "It took 21.869637727737427 seconds to run this function.\n"
     ]
    }
   ],
   "source": [
    "import time\n",
    "\n",
    "def take_info():\n",
    "    name = input(\"Please enter your name: \")\n",
    "    email = input(\"Please enter your email address: \")\n",
    "    \n",
    "    return print(\"Hello \", name + \" Your details have been taken\")\n",
    "\n",
    "startTime = time.time()\n",
    "fx = take_info()\n",
    "endTime = time.time()\n",
    "print('It took %s seconds to run this function.' % (endTime - startTime))"
   ]
  },
  {
   "cell_type": "markdown",
   "metadata": {},
   "source": [
    "**The End**"
   ]
  }
 ],
 "metadata": {
  "kernelspec": {
   "display_name": "Python 3",
   "language": "python",
   "name": "python3"
  },
  "language_info": {
   "codemirror_mode": {
    "name": "ipython",
    "version": 3
   },
   "file_extension": ".py",
   "mimetype": "text/x-python",
   "name": "python",
   "nbconvert_exporter": "python",
   "pygments_lexer": "ipython3",
   "version": "3.7.6"
  }
 },
 "nbformat": 4,
 "nbformat_minor": 2
}
