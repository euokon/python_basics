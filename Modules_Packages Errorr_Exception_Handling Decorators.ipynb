{
 "cells": [
  {
   "cell_type": "markdown",
   "id": "a58b4010",
   "metadata": {},
   "source": [
    "# Python Modules and Packages\n",
    "\n",
    "\n",
    "## What are modules in Python?\n",
    "\n",
    "- A file containing Python code, for example: ```example.py```, is called a module, and its module name would be ````example````.\n",
    "- We use modules to break down large programs into small manageable and organized files. Furthermore, modules provide reusability of code.\n",
    "- We can define our most used functions in a module and import it, instead of copying their definitions into different programs.\n",
    "- Let us create a module. Type the following and save it as ```example.py```"
   ]
  },
  {
   "cell_type": "code",
   "execution_count": 1,
   "id": "f3676e80",
   "metadata": {},
   "outputs": [],
   "source": [
    "#This python code performs bacic arithemetic operations\n",
    "\n",
    "def add(x, y):\n",
    "    return (x + y)\n",
    "    \n",
    "def subtract(x, y):\n",
    "    return (x - y)"
   ]
  },
  {
   "cell_type": "markdown",
   "id": "572aba91",
   "metadata": {},
   "source": [
    " We can import the definitions inside a module to another module or the interactive interpreter in Python.\n",
    "\n",
    " We use the ````import```` keyword to do this. To import our previously defined module example, we type the following in our cell, script or interactive prompt"
   ]
  },
  {
   "cell_type": "code",
   "execution_count": 4,
   "id": "f7116f79",
   "metadata": {},
   "outputs": [
    {
     "name": "stdout",
     "output_type": "stream",
     "text": [
      "7\n",
      "-1\n"
     ]
    }
   ],
   "source": [
    "import example\n",
    "\n",
    "print(example.add(3,4))\n",
    "\n",
    "print(example.subtract(3,4))"
   ]
  },
  {
   "cell_type": "code",
   "execution_count": 1,
   "id": "7c0d1cad",
   "metadata": {},
   "outputs": [
    {
     "name": "stdout",
     "output_type": "stream",
     "text": [
      "166\n",
      "999999999999000\n"
     ]
    }
   ],
   "source": [
    "import tutorial\n",
    "\n",
    "print(tutorial.add(79, 87))\n",
    "\n",
    "print(tutorial.subtract(1000000000000000, 1000))\n"
   ]
  },
  {
   "cell_type": "markdown",
   "id": "37649973",
   "metadata": {},
   "source": [
    "Python has tons of standard modules. You can check out the [full list of Python standard modules and their use cases](https://docs.python.org/3/py-modindex.html). These files are in the Lib directory inside the location where you installed Python.\n",
    "\n",
    "Standard modules can be imported the same way as we import our user-defined modules.\n",
    "\n",
    "There are various ways to import modules. They are listed below..\n",
    "\n",
    "## Python Import Statement\n",
    "\n",
    "We can import a module using the import statement and access the definitions inside it using the dot operator as described above. Here is an example.\n",
    "\n"
   ]
  },
  {
   "cell_type": "code",
   "execution_count": 2,
   "id": "59b26c33",
   "metadata": {},
   "outputs": [
    {
     "name": "stdout",
     "output_type": "stream",
     "text": [
      "The value of pi is 3.141592653589793\n"
     ]
    }
   ],
   "source": [
    "# import statement example\n",
    "# to import standard module math\n",
    "\n",
    "import math\n",
    "print(\"The value of pi is\", math.pi)"
   ]
  },
  {
   "cell_type": "markdown",
   "id": "f0fc163f",
   "metadata": {},
   "source": [
    "## Import renaming"
   ]
  },
  {
   "cell_type": "code",
   "execution_count": 4,
   "id": "55db8cc5",
   "metadata": {},
   "outputs": [
    {
     "name": "stdout",
     "output_type": "stream",
     "text": [
      "The value of pi is 3.141592653589793\n"
     ]
    }
   ],
   "source": [
    "# import module by renaming it\n",
    "\n",
    "import math as m\n",
    "print(\"The value of pi is\", math.pi)"
   ]
  },
  {
   "cell_type": "markdown",
   "id": "7a8229f3",
   "metadata": {},
   "source": [
    "We have renamed the math module as ```m```. This can save us typing time in some cases.\n",
    "\n",
    "Note that the name ```math``` is not recognized in our scope. Hence, ```math.pi``` is invalid, and m.pi is the correct implementation."
   ]
  },
  {
   "cell_type": "markdown",
   "id": "74ac3346",
   "metadata": {},
   "source": [
    "## Python from...import statement\n",
    "\n",
    "We can import specific names from a module without importing the module as a whole. Here is an example."
   ]
  },
  {
   "cell_type": "code",
   "execution_count": 5,
   "id": "0b21b5c7",
   "metadata": {},
   "outputs": [
    {
     "name": "stdout",
     "output_type": "stream",
     "text": [
      "The value of pi is 3.141592653589793\n"
     ]
    }
   ],
   "source": [
    "# import only pi from math module\n",
    "\n",
    "from math import pi\n",
    "print(\"The value of pi is\", pi)"
   ]
  },
  {
   "cell_type": "markdown",
   "id": "b19192c2",
   "metadata": {},
   "source": [
    "Here, we imported only the ````pi```` attribute from the ```math``` module.\n",
    "\n",
    "In such cases, we don't use the dot operator. We can also import multiple attributes as follows:"
   ]
  },
  {
   "cell_type": "code",
   "execution_count": 6,
   "id": "4aadaf90",
   "metadata": {},
   "outputs": [
    {
     "data": {
      "text/plain": [
       "153.93804002589985"
      ]
     },
     "execution_count": 6,
     "metadata": {},
     "output_type": "execute_result"
    }
   ],
   "source": [
    "from math import pi\n",
    "\n",
    "r = 7\n",
    "area_of_circle = pi * r * r\n",
    "area_of_circle"
   ]
  },
  {
   "cell_type": "code",
   "execution_count": 7,
   "id": "874f65ac",
   "metadata": {},
   "outputs": [
    {
     "name": "stdout",
     "output_type": "stream",
     "text": [
      "The value of pi is 3.141592653589793\n",
      "The value of e is 2.718281828459045\n"
     ]
    }
   ],
   "source": [
    "from math import pi, e \n",
    "print(\"The value of pi is\", pi)\n",
    "print(\"The value of e is\", e)"
   ]
  },
  {
   "cell_type": "markdown",
   "id": "87031704",
   "metadata": {},
   "source": [
    "## Import all names\n",
    "\n",
    "We can import all names(definitions) from a module using the following construct:"
   ]
  },
  {
   "cell_type": "code",
   "execution_count": 8,
   "id": "4d30fea5",
   "metadata": {},
   "outputs": [
    {
     "name": "stdout",
     "output_type": "stream",
     "text": [
      "The value of pi is 3.141592653589793\n"
     ]
    }
   ],
   "source": [
    "# import all names from the standard module math\n",
    "\n",
    "from math import *\n",
    "print(\"The value of pi is\", pi)"
   ]
  },
  {
   "cell_type": "markdown",
   "id": "e96e67a8",
   "metadata": {},
   "source": [
    "Here, we have imported all the definitions from the math module. This includes all names visible in our scope except those beginning with an underscore(private definitions).\n",
    "\n",
    "Importing everything with the asterisk (*) __symbol is not a good programming practice. This can lead to duplicate definitions for an identifier. It also hampers the readability of our code__"
   ]
  },
  {
   "cell_type": "markdown",
   "id": "1018f7ac",
   "metadata": {},
   "source": [
    "## Python Module Search Path\n",
    "\n",
    "While importing a module, Python looks at several places. Interpreter first looks for a built-in module. Then(if built-in module not found), Python looks into a list of directories defined in ````sys.path````. The search is in this order.\n",
    "\n",
    "- The current directory.\n",
    "- ````PYTHONPATH```` (an environment variable with a list of directories).\n",
    "- The installation-dependent default directory."
   ]
  },
  {
   "cell_type": "code",
   "execution_count": 6,
   "id": "cb2e6cec",
   "metadata": {},
   "outputs": [
    {
     "data": {
      "text/plain": [
       "['C:\\\\Users\\\\oilesanmi\\\\Documents',\n",
       " 'c:\\\\program files (x86)\\\\microsoft visual studio\\\\shared\\\\python37_64\\\\python37.zip',\n",
       " 'c:\\\\program files (x86)\\\\microsoft visual studio\\\\shared\\\\python37_64\\\\DLLs',\n",
       " 'c:\\\\program files (x86)\\\\microsoft visual studio\\\\shared\\\\python37_64\\\\lib',\n",
       " 'c:\\\\program files (x86)\\\\microsoft visual studio\\\\shared\\\\python37_64',\n",
       " '',\n",
       " 'C:\\\\Users\\\\oilesanmi\\\\AppData\\\\Roaming\\\\Python\\\\Python37\\\\site-packages',\n",
       " 'C:\\\\Users\\\\oilesanmi\\\\AppData\\\\Roaming\\\\Python\\\\Python37\\\\site-packages\\\\win32',\n",
       " 'C:\\\\Users\\\\oilesanmi\\\\AppData\\\\Roaming\\\\Python\\\\Python37\\\\site-packages\\\\win32\\\\lib',\n",
       " 'C:\\\\Users\\\\oilesanmi\\\\AppData\\\\Roaming\\\\Python\\\\Python37\\\\site-packages\\\\Pythonwin',\n",
       " 'c:\\\\program files (x86)\\\\microsoft visual studio\\\\shared\\\\python37_64\\\\lib\\\\site-packages',\n",
       " 'C:\\\\Users\\\\oilesanmi\\\\AppData\\\\Roaming\\\\Python\\\\Python37\\\\site-packages\\\\IPython\\\\extensions',\n",
       " 'C:\\\\Users\\\\oilesanmi\\\\.ipython']"
      ]
     },
     "execution_count": 6,
     "metadata": {},
     "output_type": "execute_result"
    }
   ],
   "source": [
    "import sys\n",
    "\n",
    "sys.path"
   ]
  },
  {
   "cell_type": "markdown",
   "id": "dbd4f2c0",
   "metadata": {},
   "source": [
    "## Reloading a module\n",
    "\n",
    "The Python interpreter imports a module only once during a session. This makes things more efficient. Here is an example to show how this works.\n",
    "\n",
    "Suppose we have the following code in a module named ````my_module````."
   ]
  },
  {
   "cell_type": "code",
   "execution_count": 11,
   "id": "d4156905",
   "metadata": {},
   "outputs": [],
   "source": [
    "import my_module\n",
    "\n",
    "import my_module \n",
    "\n"
   ]
  },
  {
   "cell_type": "markdown",
   "id": "6abf29a5",
   "metadata": {},
   "source": [
    "We can see that our code got executed only once. This goes to say that our module was imported only once.\n",
    "\n",
    "Now if our module changed during the course of the program, we would have to reload it. One way to do this is to restart the interpreter. But this does not help much.\n",
    "\n",
    "Python provides a more efficient way of doing this. We can use the ````reload()```` function inside the imp module to reload a module. We can do it in the following ways:"
   ]
  },
  {
   "cell_type": "code",
   "execution_count": 12,
   "id": "b877f8cd",
   "metadata": {},
   "outputs": [
    {
     "name": "stdout",
     "output_type": "stream",
     "text": [
      "This code got executed\n"
     ]
    },
    {
     "data": {
      "text/plain": [
       "<module 'my_module' from 'C:\\\\Users\\\\oilesanmi\\\\Documents\\\\my_module.py'>"
      ]
     },
     "execution_count": 12,
     "metadata": {},
     "output_type": "execute_result"
    }
   ],
   "source": [
    "import imp\n",
    "\n",
    "import my_module\n",
    "\n",
    "import my_module\n",
    "\n",
    "imp.reload(my_module)\n"
   ]
  },
  {
   "cell_type": "markdown",
   "id": "5e581dc8",
   "metadata": {},
   "source": [
    "## What are Python Pacakages?\n",
    "\n",
    "A python package is a collection of modules. Modules that are related to each other are mainly put in the same package. When a module from an external package is required in a program, that package can be imported and its modules can be put to use.\n",
    "\n",
    "A package is a directory of Python modules that contains an additional ````__init__.py```` file, which distinguishes a package from a directory that is supposed to contain multiple Python scripts. Packages can be nested to multiple depths if each corresponding directory contains its own ````__init__.py```` file.\n",
    "\n",
    "For example, let’s take the ````datetime```` module, which has a submodule called ````date.```` When datetime is imported, it’ll result in an error, as shown below:"
   ]
  },
  {
   "cell_type": "code",
   "execution_count": 13,
   "id": "41d0ebce",
   "metadata": {},
   "outputs": [
    {
     "ename": "NameError",
     "evalue": "name 'date' is not defined",
     "output_type": "error",
     "traceback": [
      "\u001b[1;31m---------------------------------------------------------------------------\u001b[0m",
      "\u001b[1;31mNameError\u001b[0m                                 Traceback (most recent call last)",
      "\u001b[1;32m~\\AppData\\Local\\Temp\\ipykernel_20688\\755038995.py\u001b[0m in \u001b[0;36m<module>\u001b[1;34m\u001b[0m\n\u001b[0;32m      1\u001b[0m \u001b[1;32mimport\u001b[0m \u001b[0mdatetime\u001b[0m\u001b[1;33m\u001b[0m\u001b[1;33m\u001b[0m\u001b[0m\n\u001b[1;32m----> 2\u001b[1;33m \u001b[0mdate\u001b[0m\u001b[1;33m.\u001b[0m\u001b[0mtoday\u001b[0m\u001b[1;33m(\u001b[0m\u001b[1;33m)\u001b[0m\u001b[1;33m\u001b[0m\u001b[1;33m\u001b[0m\u001b[0m\n\u001b[0m",
      "\u001b[1;31mNameError\u001b[0m: name 'date' is not defined"
     ]
    }
   ],
   "source": [
    "import datetime\n",
    "date.today()"
   ]
  },
  {
   "cell_type": "code",
   "execution_count": 15,
   "id": "fa81dcf9",
   "metadata": {},
   "outputs": [
    {
     "name": "stdout",
     "output_type": "stream",
     "text": [
      "2022-01-26\n"
     ]
    }
   ],
   "source": [
    "#This is the correct way \n",
    "\n",
    "from datetime import date\n",
    "print(date.today())"
   ]
  },
  {
   "cell_type": "markdown",
   "id": "08518f66",
   "metadata": {},
   "source": [
    "# Error and Exception Handling\n",
    "\n",
    "It is necessary to understand that there is a subtle difference between an ````error```` and an ````exception````\n",
    "\n",
    "Errors cannot be handled, while Python exceptions can be handled at the run time. An error can be a ````syntax```` (parsing) error, while there can be many types of exceptions that could occur during the execution and are not unconditionally inoperable. An ````Error```` might indicate critical problems that a reasonable application should not try to catch, while an ````Exception```` might indicate conditions that an application should try to catch. Errors are a form of an unchecked exception and are irrecoverable like an ````OutOfMemoryError````, which a programmer should not try to handle.\n",
    "\n",
    "Python has many [built-in exceptions](https://www.programiz.com/python-programming/exceptions) that are raised when your program encounters an error (something in the program goes wrong).\n",
    "\n",
    "When these exceptions occur, the Python interpreter stops the current process and passes it to the calling process until it is handled. If not handled, the program will crash.\n",
    "\n",
    "For example, let us consider a program where we have a function ````A```` that calls function ````B````, which in turn calls function ````C````. If an exception occurs in function ````C```` but is not handled in ````C````, the exception passes to ````B```` and then to ````A````.\n",
    "\n",
    "If never handled, an error message is displayed and our program comes to a sudden unexpected halt.\n",
    "\n"
   ]
  },
  {
   "cell_type": "markdown",
   "id": "59e0be76",
   "metadata": {},
   "source": [
    "## Catching Exceptions in Python\n",
    "\n",
    "In Python, exceptions can be handled using a try statement.\n",
    "\n",
    "The critical operation which can raise an exception is placed inside the ````try```` clause. The code that handles the exceptions is written in the ````except```` clause.\n",
    "\n",
    "We can thus choose what operations to perform once we have caught the ````exception.```` Here is a simple example.\n",
    "\n"
   ]
  },
  {
   "cell_type": "code",
   "execution_count": 20,
   "id": "593fb243",
   "metadata": {},
   "outputs": [
    {
     "name": "stdout",
     "output_type": "stream",
     "text": [
      "The entry is a\n",
      "Oops! <class 'ValueError'> occurred.\n",
      "Next entry.\n",
      "\n",
      "The entry is 0\n",
      "Oops! <class 'ZeroDivisionError'> occurred.\n",
      "Next entry.\n",
      "\n",
      "The entry is 2\n",
      "The reciprocal of 2 is 0.5\n"
     ]
    }
   ],
   "source": [
    "# import module sys to get the type of exception\n",
    "import sys\n",
    "\n",
    "randomList = ['a', 0, 2]\n",
    "\n",
    "for entry in randomList:\n",
    "    try:\n",
    "        print(\"The entry is\", entry)\n",
    "        r = 1/int(entry)\n",
    "        break\n",
    "    except:\n",
    "        print(\"Oops!\", sys.exc_info()[0], \"occurred.\")\n",
    "        print(\"Next entry.\")\n",
    "        print()\n",
    "print(\"The reciprocal of\", entry, \"is\", r)"
   ]
  },
  {
   "cell_type": "code",
   "execution_count": 22,
   "id": "5c8ac0bc",
   "metadata": {},
   "outputs": [
    {
     "name": "stdout",
     "output_type": "stream",
     "text": [
      "The entry is 1\n",
      "The reciprocal of 1 is 1.0\n"
     ]
    }
   ],
   "source": [
    "# import module sys to get the type of exception\n",
    "import sys\n",
    "\n",
    "randomList = [1, 2, 3, 4]\n",
    "\n",
    "for entry in randomList:\n",
    "    try:\n",
    "        print(\"The entry is\", entry)\n",
    "        r = 1/int(entry)\n",
    "        break\n",
    "    except:\n",
    "        print(\"Oops!\", sys.exc_info()[0], \"occurred.\")\n",
    "        print(\"Next entry.\")\n",
    "        print()\n",
    "print(\"The reciprocal of\", entry, \"is\", r)"
   ]
  },
  {
   "cell_type": "code",
   "execution_count": 31,
   "id": "e9c1fba6",
   "metadata": {},
   "outputs": [
    {
     "name": "stdout",
     "output_type": "stream",
     "text": [
      "TypeError: Please, check the indices list again to make sure they contain same data type\n",
      "Michael\n",
      "Ajibola\n",
      "Kingsley\n",
      "TypeError: Please, check the indices list again to make sure they contain same data type\n"
     ]
    }
   ],
   "source": [
    "dao_list = [\"Lanre\", \"Michael\", \"Ajibola\", \"Kingsley\"]\n",
    "indices = [\"0\", 1, 2, 3, 5.2]\n",
    "\n",
    "for i in range(len(indices)):\n",
    "    try:\n",
    "        print(dao_list[indices[i]])\n",
    "    except (TypeError, ValueError):\n",
    "        print(\"TypeError: Please, check the indices list again to make sure they contain same data type\")\n",
    "    \n"
   ]
  },
  {
   "cell_type": "markdown",
   "id": "30bf5689",
   "metadata": {},
   "source": [
    "In this program, we loop through the values of the ````randomList```` list. As previously mentioned, the portion that can cause an exception is placed inside the try block.\n",
    "\n",
    "If no exception occurs, the ````except```` block is skipped and normal flow continues(for last value). But if any exception occurs, it is caught by the ````except```` block (first and second values).\n",
    "\n",
    "Here, we print the name of the exception using the ````exc_info()```` function inside sys module. We can see that a causes ````ValueError```` and ````0```` causes ````ZeroDivisionError````\n",
    "\n",
    "Since every exception in Python inherits from the base ````Exception```` class, we can also perform the above task in the following way:"
   ]
  },
  {
   "cell_type": "code",
   "execution_count": null,
   "id": "9bf87724",
   "metadata": {},
   "outputs": [],
   "source": [
    "# import module sys to get the type of exception\n",
    "import sys\n",
    "\n",
    "randomList = ['a', 0, 2]\n",
    "\n",
    "for entry in randomList:\n",
    "    try:\n",
    "        print(\"The entry is\", entry)\n",
    "        r = 1/int(entry)\n",
    "        break\n",
    "    except Exception as e:\n",
    "        print(\"Oops!\", e.__class__, \"occurred.\")\n",
    "        print(\"Next entry.\")\n",
    "        print()\n",
    "print(\"The reciprocal of\", entry, \"is\", r)"
   ]
  },
  {
   "cell_type": "markdown",
   "id": "a287be3f",
   "metadata": {},
   "source": [
    "This program has the same output as the above program."
   ]
  },
  {
   "cell_type": "markdown",
   "id": "59a1307a",
   "metadata": {},
   "source": [
    "## Catching Specific Exceptions in Python\n",
    "\n",
    "In the above example, we did not mention any specific exception in the except clause.\n",
    "\n",
    "This is not a good programming practice as it will catch all exceptions and handle every case in the same way. We can specify which exceptions an except clause should catch.\n",
    "\n",
    "A ````try```` clause can have any number of except clauses to handle different exceptions, however, only one will be executed in case an exception occurs.\n",
    "\n",
    "We can use a tuple of values to specify multiple exceptions in an ````except```` clause. Here is an example pseudo code.\n",
    "\n"
   ]
  },
  {
   "cell_type": "code",
   "execution_count": null,
   "id": "0e938169",
   "metadata": {},
   "outputs": [],
   "source": [
    "try:\n",
    "   # do something\n",
    "   pass\n",
    "\n",
    "except ValueError:\n",
    "   # handle ValueError exception\n",
    "   pass\n",
    "\n",
    "except (TypeError, ZeroDivisionError):\n",
    "   # handle multiple exceptions\n",
    "   # TypeError and ZeroDivisionError\n",
    "   pass\n",
    "\n",
    "except:\n",
    "   # handle all other exceptions\n",
    "   pass"
   ]
  },
  {
   "cell_type": "markdown",
   "id": "ac6b63a9",
   "metadata": {},
   "source": [
    "## Raising exceptions in Python \n",
    "\n",
    "In Python programming, exceptions are raised when errors occur at runtime. We can also manually raise exceptions using the raise keyword.\n",
    "\n",
    "We can optionally pass values to the exception to clarify why that exception was raised"
   ]
  },
  {
   "cell_type": "code",
   "execution_count": 34,
   "id": "4fef05f6",
   "metadata": {},
   "outputs": [
    {
     "ename": "KeyboardInterrupt",
     "evalue": "Why do you want to cheat?",
     "output_type": "error",
     "traceback": [
      "\u001b[1;31m---------------------------------------------------------------------------\u001b[0m",
      "\u001b[1;31mKeyboardInterrupt\u001b[0m                         Traceback (most recent call last)",
      "\u001b[1;32m~\\AppData\\Local\\Temp\\ipykernel_20688\\100110504.py\u001b[0m in \u001b[0;36m<module>\u001b[1;34m\u001b[0m\n\u001b[1;32m----> 1\u001b[1;33m \u001b[1;32mraise\u001b[0m \u001b[0mKeyboardInterrupt\u001b[0m\u001b[1;33m(\u001b[0m\u001b[1;34m\"Why do you want to cheat?\"\u001b[0m\u001b[1;33m)\u001b[0m\u001b[1;33m\u001b[0m\u001b[1;33m\u001b[0m\u001b[0m\n\u001b[0m",
      "\u001b[1;31mKeyboardInterrupt\u001b[0m: Why do you want to cheat?"
     ]
    }
   ],
   "source": [
    "raise KeyboardInterrupt(\"Why do you want to cheat?\")"
   ]
  },
  {
   "cell_type": "code",
   "execution_count": 36,
   "id": "5d8bc6fe",
   "metadata": {},
   "outputs": [
    {
     "data": {
      "text/plain": [
       "MemoryError('Na wetin you no fit process you dey run')"
      ]
     },
     "execution_count": 36,
     "metadata": {},
     "output_type": "execute_result"
    }
   ],
   "source": [
    "MemoryError(\"Na wetin you no fit process you dey run\")"
   ]
  },
  {
   "cell_type": "code",
   "execution_count": 37,
   "id": "66be835e",
   "metadata": {},
   "outputs": [
    {
     "name": "stdout",
     "output_type": "stream",
     "text": [
      "Enter a positive integer: -987\n",
      "That is is not a positive number!\n"
     ]
    }
   ],
   "source": [
    "try:\n",
    "    a = int(input(\"Enter a positive integer: \"))\n",
    "    if a <= 0:\n",
    "        raise ValueError(\"That is is not a positive number!\")\n",
    "except ValueError as ve:\n",
    "        print(ve)\n"
   ]
  },
  {
   "cell_type": "markdown",
   "id": "4a2f57e9",
   "metadata": {},
   "source": [
    "## Python try with else clause\n",
    "\n",
    "In some situations, you might want to run a certain block of code if the code block inside ````try```` ran without any errors. For these cases, you can use the optional ````else```` keyword with the ````try```` statement."
   ]
  },
  {
   "cell_type": "markdown",
   "id": "0d929111",
   "metadata": {},
   "source": [
    "__Note: ````Exceptions in the else clause are not handled by the preceding except clauses.````__"
   ]
  },
  {
   "cell_type": "code",
   "execution_count": 41,
   "id": "ec314c9d",
   "metadata": {},
   "outputs": [
    {
     "name": "stdout",
     "output_type": "stream",
     "text": [
      "Enter a number: 8\n"
     ]
    },
    {
     "ename": "TypeError",
     "evalue": "unsupported operand type(s) for /: 'int' and 'str'",
     "output_type": "error",
     "traceback": [
      "\u001b[1;31m---------------------------------------------------------------------------\u001b[0m",
      "\u001b[1;31mTypeError\u001b[0m                                 Traceback (most recent call last)",
      "\u001b[1;32m~\\AppData\\Local\\Temp\\ipykernel_20688\\1529431975.py\u001b[0m in \u001b[0;36m<module>\u001b[1;34m\u001b[0m\n\u001b[0;32m      7\u001b[0m     \u001b[0mprint\u001b[0m\u001b[1;33m(\u001b[0m\u001b[1;34m\"Not an even number!\"\u001b[0m\u001b[1;33m)\u001b[0m\u001b[1;33m\u001b[0m\u001b[1;33m\u001b[0m\u001b[0m\n\u001b[0;32m      8\u001b[0m \u001b[1;32melse\u001b[0m\u001b[1;33m:\u001b[0m\u001b[1;33m\u001b[0m\u001b[1;33m\u001b[0m\u001b[0m\n\u001b[1;32m----> 9\u001b[1;33m     \u001b[0mreciprocal\u001b[0m \u001b[1;33m=\u001b[0m \u001b[1;36m1\u001b[0m\u001b[1;33m/\u001b[0m\u001b[1;34m\"a\"\u001b[0m\u001b[1;33m\u001b[0m\u001b[1;33m\u001b[0m\u001b[0m\n\u001b[0m\u001b[0;32m     10\u001b[0m     \u001b[0mprint\u001b[0m\u001b[1;33m(\u001b[0m\u001b[0mreciprocal\u001b[0m\u001b[1;33m)\u001b[0m\u001b[1;33m\u001b[0m\u001b[1;33m\u001b[0m\u001b[0m\n\u001b[0;32m     11\u001b[0m \u001b[1;33m\u001b[0m\u001b[0m\n",
      "\u001b[1;31mTypeError\u001b[0m: unsupported operand type(s) for /: 'int' and 'str'"
     ]
    }
   ],
   "source": [
    "# program to print the reciprocal of even numbers\n",
    "\n",
    "try:\n",
    "    num = int(input(\"Enter a number: \"))\n",
    "    assert num % 2 == 0\n",
    "except:\n",
    "    print(\"Not an even number!\")\n",
    "else:\n",
    "    reciprocal = 1/num\n",
    "    print(reciprocal)\n",
    "    \n",
    "#Pass both odd and even number\n",
    "#Pass zero to get an error"
   ]
  },
  {
   "cell_type": "markdown",
   "id": "9b5c2229",
   "metadata": {},
   "source": [
    "## Python try..finally\n",
    "\n",
    "The try statement in Python can have an optional finally clause. This clause is executed no matter what, and is generally used to release external resources.\n",
    "\n",
    "For example, we may be connected to a remote data center through the network or working with a file or a Graphical User Interface (GUI).\n",
    "\n",
    "In all these circumstances, we must clean up the resource before the program comes to a halt whether it successfully ran or not. These actions (closing a file, GUI or disconnecting from network) are performed in the finally clause to guarantee the execution.\n",
    "\n",
    "Here is an example of file operations to illustrate this."
   ]
  },
  {
   "cell_type": "code",
   "execution_count": 44,
   "id": "6a17b341",
   "metadata": {},
   "outputs": [
    {
     "name": "stdout",
     "output_type": "stream",
     "text": [
      "['Just trying this out']\n"
     ]
    }
   ],
   "source": [
    "try:\n",
    "    f = open(\"test.txt\", encoding = 'utf-8')\n",
    "    print(f.readlines())\n",
    "    \n",
    "   # perform file operations\n",
    "finally:\n",
    "    f.close()\n"
   ]
  },
  {
   "cell_type": "markdown",
   "id": "63404eb6",
   "metadata": {},
   "source": [
    "## Python Decorators\n",
    "\n",
    "Functions and methods are called callable as they can be called.\n",
    "\n",
    "In fact, any object which implements the special ````__call__()```` method is termed ````callable.```` So, in the most basic sense, a decorator is a callable that returns a callable.\n",
    "\n",
    "Basically, a decorator takes in a function, adds some functionality and returns it.\n"
   ]
  },
  {
   "cell_type": "code",
   "execution_count": 45,
   "id": "4f4b10d2",
   "metadata": {
    "scrolled": true
   },
   "outputs": [
    {
     "name": "stdout",
     "output_type": "stream",
     "text": [
      "Good morning my people, how are you doing?\n"
     ]
    }
   ],
   "source": []
  },
  {
   "cell_type": "code",
   "execution_count": 50,
   "id": "2178ac36",
   "metadata": {},
   "outputs": [
    {
     "name": "stdout",
     "output_type": "stream",
     "text": [
      "I got decorated\n",
      "Programming is hard!!!!\n"
     ]
    }
   ],
   "source": [
    "def make_pretty(func):\n",
    "    def inner():\n",
    "        print(\"I got decorated\")\n",
    "        func()\n",
    "    return inner()\n",
    "\n",
    "\n",
    "def ordinary():\n",
    "    print(\"This function is ordinary\")\n",
    "    \n",
    "def hum():\n",
    "    print(\"Programming is hard!!!!\")\n",
    "    \n",
    "\n",
    "pretty = make_pretty(hum)\n",
    "pretty\n",
    "\n"
   ]
  },
  {
   "cell_type": "markdown",
   "id": "a824cef7",
   "metadata": {},
   "source": [
    "We can use the ````@```` symbol along with the name of the decorator function and place it above the definition of the function to be decorated. For example,"
   ]
  },
  {
   "cell_type": "code",
   "execution_count": 51,
   "id": "603c5eb7",
   "metadata": {},
   "outputs": [
    {
     "name": "stdout",
     "output_type": "stream",
     "text": [
      "I got decorated\n",
      "I am ordinary\n"
     ]
    }
   ],
   "source": [
    "@make_pretty\n",
    "def ordinary():\n",
    "    print(\"I am ordinary\")"
   ]
  },
  {
   "cell_type": "markdown",
   "id": "9f830512",
   "metadata": {},
   "source": [
    "is the same thing as doing "
   ]
  },
  {
   "cell_type": "code",
   "execution_count": 52,
   "id": "1b021e14",
   "metadata": {},
   "outputs": [
    {
     "name": "stdout",
     "output_type": "stream",
     "text": [
      "I got decorated\n",
      "I am ordinary\n"
     ]
    }
   ],
   "source": [
    "def ordinary():\n",
    "    print(\"I am ordinary\")\n",
    "ordinary = make_pretty(ordinary)"
   ]
  },
  {
   "cell_type": "markdown",
   "id": "89623ef8",
   "metadata": {},
   "source": [
    "## Decorating Functions with Parameters"
   ]
  },
  {
   "cell_type": "markdown",
   "id": "9dd9ad3f",
   "metadata": {},
   "source": [
    "The above decorator was simple and it only worked with functions that did not have any parameters. What if we had functions that took in parameters like:"
   ]
  },
  {
   "cell_type": "code",
   "execution_count": null,
   "id": "85431f49",
   "metadata": {},
   "outputs": [],
   "source": [
    "def divide(a, b):\n",
    "    return a/b"
   ]
  },
  {
   "cell_type": "markdown",
   "id": "34061671",
   "metadata": {},
   "source": [
    "This function has two parameters, ````a```` and ````b````. We know it will give an error if we pass in b as 0.\n",
    "\n",
    "Now let's make a decorator to check for this case that will cause the error."
   ]
  },
  {
   "cell_type": "code",
   "execution_count": 1,
   "id": "590023e6",
   "metadata": {},
   "outputs": [],
   "source": [
    "def smart_divide(func):\n",
    "    def inner(a, b):\n",
    "        print(\"I am going to divide\", a, \"and\", b)\n",
    "        if b == 0:\n",
    "            print(\"Whoops! cannot divide\")\n",
    "            return\n",
    "\n",
    "        return func(a, b)\n",
    "    return inner\n",
    "\n",
    "\n",
    "@smart_divide\n",
    "def divide(a, b):\n",
    "    print(a/b)\n",
    "    "
   ]
  },
  {
   "cell_type": "code",
   "execution_count": 4,
   "id": "d6f874af",
   "metadata": {},
   "outputs": [
    {
     "name": "stdout",
     "output_type": "stream",
     "text": [
      "I am going to divide 2 and 0\n",
      "Whoops! cannot divide\n"
     ]
    }
   ],
   "source": [
    "divide(2, 0)"
   ]
  },
  {
   "cell_type": "code",
   "execution_count": 3,
   "id": "a8f63467",
   "metadata": {},
   "outputs": [
    {
     "ename": "ZeroDivisionError",
     "evalue": "division by zero",
     "output_type": "error",
     "traceback": [
      "\u001b[1;31m---------------------------------------------------------------------------\u001b[0m",
      "\u001b[1;31mZeroDivisionError\u001b[0m                         Traceback (most recent call last)",
      "\u001b[1;32m~\\AppData\\Local\\Temp\\ipykernel_21012\\2237860.py\u001b[0m in \u001b[0;36m<module>\u001b[1;34m\u001b[0m\n\u001b[1;32m----> 1\u001b[1;33m \u001b[1;36m7\u001b[0m \u001b[1;33m/\u001b[0m\u001b[1;36m0\u001b[0m\u001b[1;33m\u001b[0m\u001b[1;33m\u001b[0m\u001b[0m\n\u001b[0m\u001b[0;32m      2\u001b[0m \u001b[1;33m\u001b[0m\u001b[0m\n",
      "\u001b[1;31mZeroDivisionError\u001b[0m: division by zero"
     ]
    }
   ],
   "source": []
  },
  {
   "cell_type": "markdown",
   "id": "c2512bb2",
   "metadata": {},
   "source": [
    "This new implementation will return ````None```` if the error condition arises.\n",
    "\n",
    "We will notice that parameters of the nested inner() function inside the decorator is the same as the parameters of functions it decorates. Taking this into account, now we can make general decorators that work with any number of parameters.\n",
    "\n",
    "In Python, this magic is done as ````function(*args, **kwargs)````. In this way, ````args```` will be the tuple of positional arguments and ````kwargs```` will be the dictionary of keyword arguments. An example of such a decorator will be:"
   ]
  },
  {
   "cell_type": "code",
   "execution_count": null,
   "id": "484cefe7",
   "metadata": {},
   "outputs": [],
   "source": [
    "def works_for_all(func):\n",
    "    def inner(*args, **kwargs):\n",
    "        print(\"I can decorate any function\")\n",
    "        return func(*args, **kwargs)\n",
    "    return inner\n"
   ]
  },
  {
   "cell_type": "markdown",
   "id": "88239975",
   "metadata": {},
   "source": [
    "## Chaining decorators in Python \n",
    "\n",
    "Multiple decorators can be chained in Python.\n",
    "\n",
    "This is to say, a function can be decorated multiple times with different (or same) decorators. We simply place the decorators above the desired function."
   ]
  },
  {
   "cell_type": "code",
   "execution_count": 15,
   "id": "3f883ce7",
   "metadata": {},
   "outputs": [
    {
     "name": "stdout",
     "output_type": "stream",
     "text": [
      "%%%%%%%%%%%%%%%%%%%%%%%%%%%%%%\n",
      "******************************\n",
      "++++++++++++++++++++++++++++++\n",
      "------------------------------\n",
      "Hello, Victor!\n",
      "------------------------------\n",
      "++++++++++++++++++++++++++++++\n",
      "******************************\n",
      "%%%%%%%%%%%%%%%%%%%%%%%%%%%%%%\n"
     ]
    }
   ],
   "source": [
    "def star(func):\n",
    "    def inner(*args, **kwargs):\n",
    "        print(\"*\" * 30)\n",
    "        func(*args, **kwargs)\n",
    "        print(\"*\" * 30)\n",
    "    return inner\n",
    "\n",
    "\n",
    "def percent(func):\n",
    "    def inner(*args, **kwargs):\n",
    "        print(\"%\" * 30)\n",
    "        func(*args, **kwargs)\n",
    "        print(\"%\" * 30)\n",
    "    return inner\n",
    "\n",
    "def plus(func):\n",
    "    def inner(*args, **kwargs):\n",
    "        print('+' * 30)\n",
    "        func(*args, **kwargs)\n",
    "        print('+' * 30)\n",
    "    return inner\n",
    "\n",
    "def minus(func):\n",
    "    def inner(*args, **kwargs):\n",
    "        print('-' * 30)\n",
    "        func(*args, **kwargs)\n",
    "        print('-' * 30)\n",
    "    return inner\n",
    "\n",
    "@percent\n",
    "@star\n",
    "@plus\n",
    "@minus\n",
    "def printer(msg):\n",
    "    print(msg)\n",
    "\n",
    "\n",
    "printer(\"Hello, Victor!\")"
   ]
  },
  {
   "cell_type": "code",
   "execution_count": 8,
   "id": "83eb2d69",
   "metadata": {},
   "outputs": [
    {
     "name": "stdout",
     "output_type": "stream",
     "text": [
      "******************************************************************************************************************************************************\n"
     ]
    }
   ],
   "source": [
    "print( '*' * 150)"
   ]
  },
  {
   "cell_type": "code",
   "execution_count": null,
   "id": "22b566e9",
   "metadata": {},
   "outputs": [],
   "source": []
  }
 ],
 "metadata": {
  "kernelspec": {
   "display_name": "Python 3 (ipykernel)",
   "language": "python",
   "name": "python3"
  },
  "language_info": {
   "codemirror_mode": {
    "name": "ipython",
    "version": 3
   },
   "file_extension": ".py",
   "mimetype": "text/x-python",
   "name": "python",
   "nbconvert_exporter": "python",
   "pygments_lexer": "ipython3",
   "version": "3.7.8"
  }
 },
 "nbformat": 4,
 "nbformat_minor": 5
}
