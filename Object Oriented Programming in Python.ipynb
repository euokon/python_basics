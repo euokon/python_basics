{
 "cells": [
  {
   "cell_type": "markdown",
   "metadata": {},
   "source": [
    "# Object Oriented Programming\n",
    "\n"
   ]
  },
  {
   "cell_type": "markdown",
   "metadata": {},
   "source": [
    "- Python is a multi-paradigm programming language. It supports different programming approaches.\n",
    "\n",
    "- One of the popular approaches to solve a programming problem is by creating objects. This is known as Object-Oriented Programming (OOP).\n",
    "\n",
    "### An object has two characteristics:\n",
    "\n",
    "- attributes\n",
    "- behavior\n",
    "- for example a parrot is an object, as it has the following properties:\n",
    "- name, age, color as attributes\n",
    "- singing, dancing as behavior\n",
    "- The concept of OOP in Python focuses on creating reusable code. This concept is also known as DRY (Don't Repeat Yourself)."
   ]
  },
  {
   "cell_type": "markdown",
   "metadata": {},
   "source": [
    "## Class"
   ]
  },
  {
   "cell_type": "markdown",
   "metadata": {},
   "source": [
    "- A class is a blueprint for the object.\n",
    "- We can think of class as a sketch of a parrot with labels. It contains all the details about the name, colors, size etc. Based on these descriptions, we can study about the parrot. Here, a parrot is an object.\n",
    "- The example for class of parrot can be :"
   ]
  },
  {
   "cell_type": "code",
   "execution_count": 2,
   "metadata": {},
   "outputs": [],
   "source": [
    "# class parrot:\n",
    "#    pass"
   ]
  },
  {
   "cell_type": "markdown",
   "metadata": {},
   "source": [
    "- Here, we use the class keyword to define an empty class Parrot. \n",
    "- From class, we construct instances. \n",
    "- An instance is a specific object created from a particular class."
   ]
  },
  {
   "cell_type": "markdown",
   "metadata": {},
   "source": [
    "## Object"
   ]
  },
  {
   "cell_type": "markdown",
   "metadata": {},
   "source": [
    "- An object or an instance is an instantiation of a class. \n",
    "- When class is defined, only the description for the object is defined. \n",
    "- Therefore, no memory or storage is allocated.\n",
    "- The example for object of parrot class can be:"
   ]
  },
  {
   "cell_type": "code",
   "execution_count": 3,
   "metadata": {},
   "outputs": [
    {
     "data": {
      "text/plain": [
       "__main__.parrot"
      ]
     },
     "execution_count": 3,
     "metadata": {},
     "output_type": "execute_result"
    }
   ],
   "source": [
    "# grey_parrot = parrot()\n",
    "\n",
    "# type(grey_parrot)"
   ]
  },
  {
   "cell_type": "markdown",
   "metadata": {},
   "source": [
    "- Here, grey_parrot is an object/instance of class Parrot."
   ]
  },
  {
   "cell_type": "code",
   "execution_count": 5,
   "metadata": {},
   "outputs": [],
   "source": [
    "# Example 1: Creating Class and Object in Python\n",
    "\n",
    "# class Parrot:\n",
    "    \n",
    "    # class attribute\n",
    "#     specie = 'bird'\n",
    "    \n",
    "    # instance attribute\n",
    "#     def __init__(self, name, age):\n",
    "#         self.name = name\n",
    "#         self.age = age"
   ]
  },
  {
   "cell_type": "code",
   "execution_count": 8,
   "metadata": {},
   "outputs": [],
   "source": [
    "# instantiate the Parrot class\n",
    "\n",
    "# grey_parrot = Parrot('kiki', 9)\n",
    "\n",
    "# sun_conure = Parrot('nini', 10)"
   ]
  },
  {
   "cell_type": "code",
   "execution_count": 9,
   "metadata": {},
   "outputs": [
    {
     "name": "stdout",
     "output_type": "stream",
     "text": [
      "kiki is a bird\n",
      "nini is also a bird\n"
     ]
    }
   ],
   "source": [
    "# access the class attributes\n",
    "\n",
    "# print('kiki is a {}'.format(grey_parrot.__class__.specie))\n",
    "# print('nini is also a {}'.format(sun_conure.__class__.specie))"
   ]
  },
  {
   "cell_type": "code",
   "execution_count": 12,
   "metadata": {},
   "outputs": [
    {
     "name": "stdout",
     "output_type": "stream",
     "text": [
      "kiki is 9 years old\n",
      "nini is 10 years old\n"
     ]
    }
   ],
   "source": [
    "# access the instance attributes\n",
    "\n",
    "# print('{} is {} years old'.format(grey_parrot.name, grey_parrot.age))\n",
    "# print('{} is {} years old'.format(sun_conure.name, sun_conure.age))"
   ]
  },
  {
   "cell_type": "markdown",
   "metadata": {},
   "source": [
    "- In the above program, we created a class with the name Parrot.\n",
    "- Then, we define attributes which are characteristic of the object.\n",
    "- These attributes are defined inside the __init__ method of the class. \n",
    "- It is the initializer method that is first run as soon as the object is created.\n",
    "- Then, we create instances of the Parrot class. which are kiki and nini referencing (values) to our new objects.\n",
    "- Class attributes are the same for all instances of a class.\n",
    "- However, instance attributes are different for every instance of a class."
   ]
  },
  {
   "cell_type": "markdown",
   "metadata": {},
   "source": [
    "#### note:  creation of object(instansiation) --> initialization of that object(optional)"
   ]
  },
  {
   "cell_type": "markdown",
   "metadata": {},
   "source": [
    "## Methods"
   ]
  },
  {
   "cell_type": "markdown",
   "metadata": {},
   "source": [
    "- Methods are functions defined inside the body of a class. \n",
    "- They are used to define the behaviors of an object."
   ]
  },
  {
   "cell_type": "code",
   "execution_count": 13,
   "metadata": {},
   "outputs": [],
   "source": [
    "# Example 2 : Creating Methods in Python\n",
    "\n",
    "class Parrot:\n",
    "    \n",
    "      # instance attributes\n",
    "    def __init__(self, name, age):\n",
    "        self.name = name\n",
    "        self.age = age\n",
    "    \n",
    "    # instance method\n",
    "    def sing(self, song):\n",
    "        return \"{} sings {}\".format(self.name, song)\n",
    "\n",
    "    def dance(self):\n",
    "        return \"{} is now dancing\".format(self.name)\n"
   ]
  },
  {
   "cell_type": "code",
   "execution_count": 18,
   "metadata": {},
   "outputs": [
    {
     "name": "stdout",
     "output_type": "stream",
     "text": [
      "nini sings awilo\n",
      "nini is now dancing\n"
     ]
    }
   ],
   "source": [
    "# instantiate the object\n",
    "\n",
    "grey_parrot = Parrot('kiki', 9)\n",
    "sun_conure = Parrot('nini', 10)\n",
    "\n",
    "# call our instance methods\n",
    "\n",
    "# print(grey_parrot.sing('my heart will go on'))\n",
    "# print(grey_parrot.sing('bird songs'))\n",
    "# print(grey_parrot.dance())\n",
    "\n",
    "print(sun_conure.sing('awilo'))\n",
    "print(sun_conure.dance())"
   ]
  },
  {
   "cell_type": "markdown",
   "metadata": {},
   "source": [
    "- In the above program, we define two methods which are sing() and dance(). \n",
    "- These are called instance methods because they are called on an instance object eg: grey_parrot."
   ]
  },
  {
   "cell_type": "markdown",
   "metadata": {},
   "source": [
    "## Inheritance"
   ]
  },
  {
   "cell_type": "markdown",
   "metadata": {},
   "source": [
    "- Inheritance is a way of creating a new class by using details of an existing class without modifying it.\n",
    "- The newly formed class is a derived class (or child class). \n",
    "- Similarly, the existing class is a base class (or parent class)."
   ]
  },
  {
   "cell_type": "code",
   "execution_count": 21,
   "metadata": {},
   "outputs": [],
   "source": [
    "# Example 3: Use of Inheritance in Python\n",
    "\n",
    "# parent class\n",
    "\n",
    "class Bird:\n",
    "    \n",
    "    def __init__(self):\n",
    "        print('the bird class..')\n",
    "        \n",
    "    def fly(self):\n",
    "        print('bird is flying..')\n",
    "        \n",
    "    def eat(self):\n",
    "        print('bird is now eating..')"
   ]
  },
  {
   "cell_type": "code",
   "execution_count": 26,
   "metadata": {},
   "outputs": [],
   "source": [
    "# child class\n",
    "\n",
    "class Parrot(Bird):\n",
    "    \n",
    "    def __init__(self):\n",
    "        # call super() function\n",
    "        super().__init__()\n",
    "        \n",
    "        # this is the childs attributes\n",
    "        print('this is the parrot class')\n",
    "        \n",
    "    def fly(self):\n",
    "        print('parrot is flying..')\n",
    "        \n",
    "    def eat(self, food):\n",
    "        print('parrot is now eating {}..'.format(food))\n",
    "        \n",
    "    def sing(self, song):\n",
    "        print('parrot is now singing {}'.format(song))"
   ]
  },
  {
   "cell_type": "code",
   "execution_count": 35,
   "metadata": {
    "scrolled": true
   },
   "outputs": [
    {
     "name": "stdout",
     "output_type": "stream",
     "text": [
      "parrot is now eating grains of rice..\n"
     ]
    }
   ],
   "source": [
    "# grey_parrot = Parrot()\n",
    "# grey_parrot.eat('grains of rice')\n",
    "# grey_parrot.fly()\n",
    "# grey_parrot.sing('maria carey')\n",
    "# bird_one = Bird()\n",
    "# bird_one.eat()"
   ]
  },
  {
   "cell_type": "markdown",
   "metadata": {},
   "source": [
    "- In the above program, we created two classes i.e. Bird (parent class) and Parrot (child class). \n",
    "- The child class inherits the methods of parent class.\n",
    "\n",
    "- Again, the child class modified the behavior of the parent class.\n",
    "- we extend the method of the parent class, by creating a new sing() method.\n",
    "\n",
    "- we use the super() function inside the __init__() method.\n",
    "- This allows us to run the __init__() method of the parent class inside the child class."
   ]
  },
  {
   "cell_type": "markdown",
   "metadata": {},
   "source": [
    "## Encapsulation"
   ]
  },
  {
   "cell_type": "markdown",
   "metadata": {},
   "source": [
    "- Using OOP in Python, we can restrict access to methods and variables. \n",
    "- This prevents data from direct modification which is called encapsulation.\n",
    "- In Python, we denote private attributes using underscore as the prefix i.e single _ or double __."
   ]
  },
  {
   "cell_type": "code",
   "execution_count": 43,
   "metadata": {},
   "outputs": [],
   "source": [
    "# Example 4: Data Encapsulation in Python\n",
    "\n",
    "class Fast_car:\n",
    "\n",
    "    def __init__(self):\n",
    "        self.__maxprice = '$9000'\n",
    "\n",
    "    def sell(self):\n",
    "        print(\"Selling Price: {}\".format(self.__maxprice))\n",
    "\n",
    "    def set_max_price(self, price):\n",
    "        self.__maxprice = price"
   ]
  },
  {
   "cell_type": "code",
   "execution_count": 44,
   "metadata": {},
   "outputs": [
    {
     "name": "stdout",
     "output_type": "stream",
     "text": [
      "Selling Price: $9000\n"
     ]
    }
   ],
   "source": [
    "mustang = Fast_car()\n",
    "mustang.__maxprice = '$4000' # directly passing value to variable (wrong)\n",
    "mustang.sell()"
   ]
  },
  {
   "cell_type": "code",
   "execution_count": 45,
   "metadata": {},
   "outputs": [
    {
     "name": "stdout",
     "output_type": "stream",
     "text": [
      "Selling Price: $2000\n"
     ]
    }
   ],
   "source": [
    "mustang.set_max_price('$2000') # passing value to variable using setter method (correct)\n",
    "mustang.sell()"
   ]
  },
  {
   "cell_type": "markdown",
   "metadata": {},
   "source": [
    "- In the above program, we defined a Fast_car class.\n",
    "- We used __init__() method to store the maximum selling price of Fast_car.\n",
    "- We also tried to modify the private variable directly which did not work."
   ]
  },
  {
   "cell_type": "markdown",
   "metadata": {},
   "source": [
    "## Polymorphism"
   ]
  },
  {
   "cell_type": "markdown",
   "metadata": {},
   "source": [
    "- Polymorphism is an ability (in OOP) to use a common interface for multiple forms (data types)."
   ]
  },
  {
   "cell_type": "code",
   "execution_count": 49,
   "metadata": {},
   "outputs": [],
   "source": [
    "# Example 5: Using Polymorphism in Python\n",
    "\n",
    "class Turtle:\n",
    "    def __init__(self):\n",
    "        pass \n",
    "    \n",
    "    def run(self):\n",
    "        print('turtle can\\'t run..')\n",
    "        \n",
    "    def eat(self):\n",
    "        print('turtle eats slowly')\n",
    "        \n",
    "class Rabbit:\n",
    "    def __init__(self):\n",
    "        pass \n",
    "    \n",
    "    def run(self):\n",
    "        print('rabbit runs fast')    \n",
    "        \n",
    "    def eat(self):\n",
    "        print('rabbit eats carrot..')\n",
    "        \n",
    "def perform(animal):\n",
    "    animal.run()\n",
    "    animal.eat()"
   ]
  },
  {
   "cell_type": "code",
   "execution_count": 50,
   "metadata": {},
   "outputs": [],
   "source": [
    "green_sea_turtle = Turtle()\n",
    "the_mini_lop = Rabbit()"
   ]
  },
  {
   "cell_type": "code",
   "execution_count": 53,
   "metadata": {},
   "outputs": [
    {
     "name": "stdout",
     "output_type": "stream",
     "text": [
      "turtle can't run..\n",
      "turtle eats slowly\n",
      "rabbit runs fast\n",
      "rabbit eats carrot..\n"
     ]
    }
   ],
   "source": [
    "perform(green_sea_turtle)\n",
    "perform(the_mini_lop)"
   ]
  },
  {
   "cell_type": "markdown",
   "metadata": {},
   "source": [
    "- we defined two classes Turtle and Rabbit. Each of them have a common run(), eat() method. However, their functions are different.\n",
    "- To use polymorphism, we created a common interface i.e perform() function that takes any object and calls the object's run() and eat() methods. Thus, when we passed the green_sea_turtle and the_mini_lop objects in the perform() function, it ran effectively."
   ]
  },
  {
   "cell_type": "markdown",
   "metadata": {},
   "source": [
    "### Key Points to Remember:\n",
    "- Object-Oriented Programming makes the program easy to understand as well as efficient.\n",
    "- Since the class is sharable, the code can be reused.\n",
    "- Data is safe and secure with data encapsulation.\n",
    "- Polymorphism allows the same interface for different objects, so programmers can write efficient code."
   ]
  },
  {
   "cell_type": "markdown",
   "metadata": {},
   "source": [
    "abstract methods --> holla!!"
   ]
  }
 ],
 "metadata": {
  "kernelspec": {
   "display_name": "Python 3",
   "language": "python",
   "name": "python3"
  },
  "language_info": {
   "codemirror_mode": {
    "name": "ipython",
    "version": 3
   },
   "file_extension": ".py",
   "mimetype": "text/x-python",
   "name": "python",
   "nbconvert_exporter": "python",
   "pygments_lexer": "ipython3",
   "version": "3.7.3"
  }
 },
 "nbformat": 4,
 "nbformat_minor": 2
}
