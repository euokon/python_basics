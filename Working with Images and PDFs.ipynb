{
 "cells": [
  {
   "cell_type": "markdown",
   "id": "d881f9f1",
   "metadata": {},
   "source": [
    "# Working with Images\n",
    "\n",
    "The Python Imaging Library (PIL) is a 3rd party Python package that adds image processing capabilities to your Python interpreter. It allows you to process photos and do many common image file manipulations. The current version of this software is in Pillow, which is a fork of the original PIL to support Python 3. Several other Python packages, such as wxPython and ReportLab, use Pillow to support loading many different image file types. You can use Pillow for several use cases including the following:\n",
    "\n",
    "- Image processing\n",
    "- Image archiving\n",
    "- Batch processing\n",
    "- Image display via Tkinter\n",
    "\n",
    "## Let's get started by installing pillow\n",
    "\n",
    "```python3 -m pip install pillow```\n",
    "\n",
    "Install on your terminal not on notebook. You will most likely get an error message if you install here.\n",
    "\n",
    "However, if you want to install on jupyter notebook, do this.\n",
    "\n",
    "```import sys```\n",
    "```!{sys.executable} -m pip install numpy```"
   ]
  },
  {
   "cell_type": "code",
   "execution_count": 13,
   "id": "2dffe2d6",
   "metadata": {},
   "outputs": [
    {
     "name": "stdout",
     "output_type": "stream",
     "text": [
      "/Library/Developer/CommandLineTools/usr/bin/python3: can't open file 'source': [Errno 2] No such file or directory\n",
      "Defaulting to user installation because normal site-packages is not writeable\n",
      "Requirement already satisfied: pillow in /Users/ojo/Library/Python/3.8/lib/python/site-packages (9.0.1)\n",
      "\u001b[33mWARNING: You are using pip version 20.2.3; however, version 22.0.2 is available.\n",
      "You should consider upgrading via the '/Library/Developer/CommandLineTools/usr/bin/python3 -m pip install --upgrade pip' command.\u001b[0m\n"
     ]
    }
   ],
   "source": [
    "\n",
    "import sys\n",
    "\n",
    "!{sys.executable} -m venv venv\n",
    "!{sys.executable} source /Users/ojo/Documents/venv/bin/activate\n",
    "!{sys.executable} -m pip install pillow"
   ]
  },
  {
   "cell_type": "markdown",
   "id": "975f92cb",
   "metadata": {},
   "source": [
    "## Openining Images\n"
   ]
  },
  {
   "cell_type": "code",
   "execution_count": 10,
   "id": "391b1030",
   "metadata": {},
   "outputs": [
    {
     "ename": "ImportError",
     "evalue": "dlopen(/Users/ojo/Library/Python/3.8/lib/python/site-packages/PIL/_imaging.cpython-38-darwin.so, 2): Symbol not found: _xcb_connect\n  Referenced from: /Users/ojo/Library/Python/3.8/lib/python/site-packages/PIL/_imaging.cpython-38-darwin.so\n  Expected in: flat namespace\n in /Users/ojo/Library/Python/3.8/lib/python/site-packages/PIL/_imaging.cpython-38-darwin.so",
     "output_type": "error",
     "traceback": [
      "\u001b[0;31m---------------------------------------------------------------------------\u001b[0m",
      "\u001b[0;31mImportError\u001b[0m                               Traceback (most recent call last)",
      "Input \u001b[0;32mIn [10]\u001b[0m, in \u001b[0;36m<module>\u001b[0;34m\u001b[0m\n\u001b[0;32m----> 1\u001b[0m \u001b[38;5;28;01mfrom\u001b[39;00m \u001b[38;5;21;01mPIL\u001b[39;00m \u001b[38;5;28;01mimport\u001b[39;00m Image\n\u001b[1;32m      3\u001b[0m image \u001b[38;5;241m=\u001b[39m Image\u001b[38;5;241m.\u001b[39mopen(\u001b[38;5;124m'\u001b[39m\u001b[38;5;124mxyz.jpeg\u001b[39m\u001b[38;5;124m'\u001b[39m)\n\u001b[1;32m      5\u001b[0m image\u001b[38;5;241m.\u001b[39mshow()\n",
      "File \u001b[0;32m~/Library/Python/3.8/lib/python/site-packages/PIL/Image.py:89\u001b[0m, in \u001b[0;36m<module>\u001b[0;34m\u001b[0m\n\u001b[1;32m     80\u001b[0m MAX_IMAGE_PIXELS \u001b[38;5;241m=\u001b[39m \u001b[38;5;28mint\u001b[39m(\u001b[38;5;241m1024\u001b[39m \u001b[38;5;241m*\u001b[39m \u001b[38;5;241m1024\u001b[39m \u001b[38;5;241m*\u001b[39m \u001b[38;5;241m1024\u001b[39m \u001b[38;5;241m/\u001b[39m\u001b[38;5;241m/\u001b[39m \u001b[38;5;241m4\u001b[39m \u001b[38;5;241m/\u001b[39m\u001b[38;5;241m/\u001b[39m \u001b[38;5;241m3\u001b[39m)\n\u001b[1;32m     83\u001b[0m \u001b[38;5;28;01mtry\u001b[39;00m:\n\u001b[1;32m     84\u001b[0m     \u001b[38;5;66;03m# If the _imaging C module is not present, Pillow will not load.\u001b[39;00m\n\u001b[1;32m     85\u001b[0m     \u001b[38;5;66;03m# Note that other modules should not refer to _imaging directly;\u001b[39;00m\n\u001b[1;32m     86\u001b[0m     \u001b[38;5;66;03m# import Image and use the Image.core variable instead.\u001b[39;00m\n\u001b[1;32m     87\u001b[0m     \u001b[38;5;66;03m# Also note that Image.core is not a publicly documented interface,\u001b[39;00m\n\u001b[1;32m     88\u001b[0m     \u001b[38;5;66;03m# and should be considered private and subject to change.\u001b[39;00m\n\u001b[0;32m---> 89\u001b[0m     \u001b[38;5;28;01mfrom\u001b[39;00m \u001b[38;5;21;01m.\u001b[39;00m \u001b[38;5;28;01mimport\u001b[39;00m _imaging \u001b[38;5;28;01mas\u001b[39;00m core\n\u001b[1;32m     91\u001b[0m     \u001b[38;5;28;01mif\u001b[39;00m __version__ \u001b[38;5;241m!=\u001b[39m \u001b[38;5;28mgetattr\u001b[39m(core, \u001b[38;5;124m\"\u001b[39m\u001b[38;5;124mPILLOW_VERSION\u001b[39m\u001b[38;5;124m\"\u001b[39m, \u001b[38;5;28;01mNone\u001b[39;00m):\n\u001b[1;32m     92\u001b[0m         \u001b[38;5;28;01mraise\u001b[39;00m \u001b[38;5;167;01mImportError\u001b[39;00m(\n\u001b[1;32m     93\u001b[0m             \u001b[38;5;124m\"\u001b[39m\u001b[38;5;124mThe _imaging extension was built for another version of Pillow or PIL:\u001b[39m\u001b[38;5;130;01m\\n\u001b[39;00m\u001b[38;5;124m\"\u001b[39m\n\u001b[1;32m     94\u001b[0m             \u001b[38;5;124mf\u001b[39m\u001b[38;5;124m\"\u001b[39m\u001b[38;5;124mCore version: \u001b[39m\u001b[38;5;132;01m{\u001b[39;00m\u001b[38;5;28mgetattr\u001b[39m(core, \u001b[38;5;124m'\u001b[39m\u001b[38;5;124mPILLOW_VERSION\u001b[39m\u001b[38;5;124m'\u001b[39m, \u001b[38;5;28;01mNone\u001b[39;00m)\u001b[38;5;132;01m}\u001b[39;00m\u001b[38;5;130;01m\\n\u001b[39;00m\u001b[38;5;124m\"\u001b[39m\n\u001b[1;32m     95\u001b[0m             \u001b[38;5;124mf\u001b[39m\u001b[38;5;124m\"\u001b[39m\u001b[38;5;124mPillow version: \u001b[39m\u001b[38;5;132;01m{\u001b[39;00m__version__\u001b[38;5;132;01m}\u001b[39;00m\u001b[38;5;124m\"\u001b[39m\n\u001b[1;32m     96\u001b[0m         )\n",
      "\u001b[0;31mImportError\u001b[0m: dlopen(/Users/ojo/Library/Python/3.8/lib/python/site-packages/PIL/_imaging.cpython-38-darwin.so, 2): Symbol not found: _xcb_connect\n  Referenced from: /Users/ojo/Library/Python/3.8/lib/python/site-packages/PIL/_imaging.cpython-38-darwin.so\n  Expected in: flat namespace\n in /Users/ojo/Library/Python/3.8/lib/python/site-packages/PIL/_imaging.cpython-38-darwin.so"
     ]
    }
   ],
   "source": [
    "from PIL import Image\n",
    "\n",
    "open_image = Image.open('xyz.jpeg')\n",
    "\n",
    "open_image.show()"
   ]
  },
  {
   "cell_type": "code",
   "execution_count": 14,
   "id": "55222eeb",
   "metadata": {},
   "outputs": [
    {
     "ename": "ImportError",
     "evalue": "dlopen(/Users/ojo/Library/Python/3.8/lib/python/site-packages/PIL/_imaging.cpython-38-darwin.so, 2): Symbol not found: _xcb_connect\n  Referenced from: /Users/ojo/Library/Python/3.8/lib/python/site-packages/PIL/_imaging.cpython-38-darwin.so\n  Expected in: flat namespace\n in /Users/ojo/Library/Python/3.8/lib/python/site-packages/PIL/_imaging.cpython-38-darwin.so",
     "output_type": "error",
     "traceback": [
      "\u001b[0;31m---------------------------------------------------------------------------\u001b[0m",
      "\u001b[0;31mImportError\u001b[0m                               Traceback (most recent call last)",
      "Input \u001b[0;32mIn [14]\u001b[0m, in \u001b[0;36m<module>\u001b[0;34m\u001b[0m\n\u001b[1;32m      1\u001b[0m \u001b[38;5;66;03m# get_image_info.py\u001b[39;00m\n\u001b[0;32m----> 3\u001b[0m \u001b[38;5;28;01mfrom\u001b[39;00m \u001b[38;5;21;01mPIL\u001b[39;00m \u001b[38;5;28;01mimport\u001b[39;00m Image\n\u001b[1;32m      5\u001b[0m \u001b[38;5;28;01mdef\u001b[39;00m \u001b[38;5;21mget_image_info\u001b[39m(path):\n\u001b[1;32m      6\u001b[0m     image \u001b[38;5;241m=\u001b[39m Image\u001b[38;5;241m.\u001b[39mopen(path)\n",
      "File \u001b[0;32m~/Library/Python/3.8/lib/python/site-packages/PIL/Image.py:89\u001b[0m, in \u001b[0;36m<module>\u001b[0;34m\u001b[0m\n\u001b[1;32m     80\u001b[0m MAX_IMAGE_PIXELS \u001b[38;5;241m=\u001b[39m \u001b[38;5;28mint\u001b[39m(\u001b[38;5;241m1024\u001b[39m \u001b[38;5;241m*\u001b[39m \u001b[38;5;241m1024\u001b[39m \u001b[38;5;241m*\u001b[39m \u001b[38;5;241m1024\u001b[39m \u001b[38;5;241m/\u001b[39m\u001b[38;5;241m/\u001b[39m \u001b[38;5;241m4\u001b[39m \u001b[38;5;241m/\u001b[39m\u001b[38;5;241m/\u001b[39m \u001b[38;5;241m3\u001b[39m)\n\u001b[1;32m     83\u001b[0m \u001b[38;5;28;01mtry\u001b[39;00m:\n\u001b[1;32m     84\u001b[0m     \u001b[38;5;66;03m# If the _imaging C module is not present, Pillow will not load.\u001b[39;00m\n\u001b[1;32m     85\u001b[0m     \u001b[38;5;66;03m# Note that other modules should not refer to _imaging directly;\u001b[39;00m\n\u001b[1;32m     86\u001b[0m     \u001b[38;5;66;03m# import Image and use the Image.core variable instead.\u001b[39;00m\n\u001b[1;32m     87\u001b[0m     \u001b[38;5;66;03m# Also note that Image.core is not a publicly documented interface,\u001b[39;00m\n\u001b[1;32m     88\u001b[0m     \u001b[38;5;66;03m# and should be considered private and subject to change.\u001b[39;00m\n\u001b[0;32m---> 89\u001b[0m     \u001b[38;5;28;01mfrom\u001b[39;00m \u001b[38;5;21;01m.\u001b[39;00m \u001b[38;5;28;01mimport\u001b[39;00m _imaging \u001b[38;5;28;01mas\u001b[39;00m core\n\u001b[1;32m     91\u001b[0m     \u001b[38;5;28;01mif\u001b[39;00m __version__ \u001b[38;5;241m!=\u001b[39m \u001b[38;5;28mgetattr\u001b[39m(core, \u001b[38;5;124m\"\u001b[39m\u001b[38;5;124mPILLOW_VERSION\u001b[39m\u001b[38;5;124m\"\u001b[39m, \u001b[38;5;28;01mNone\u001b[39;00m):\n\u001b[1;32m     92\u001b[0m         \u001b[38;5;28;01mraise\u001b[39;00m \u001b[38;5;167;01mImportError\u001b[39;00m(\n\u001b[1;32m     93\u001b[0m             \u001b[38;5;124m\"\u001b[39m\u001b[38;5;124mThe _imaging extension was built for another version of Pillow or PIL:\u001b[39m\u001b[38;5;130;01m\\n\u001b[39;00m\u001b[38;5;124m\"\u001b[39m\n\u001b[1;32m     94\u001b[0m             \u001b[38;5;124mf\u001b[39m\u001b[38;5;124m\"\u001b[39m\u001b[38;5;124mCore version: \u001b[39m\u001b[38;5;132;01m{\u001b[39;00m\u001b[38;5;28mgetattr\u001b[39m(core, \u001b[38;5;124m'\u001b[39m\u001b[38;5;124mPILLOW_VERSION\u001b[39m\u001b[38;5;124m'\u001b[39m, \u001b[38;5;28;01mNone\u001b[39;00m)\u001b[38;5;132;01m}\u001b[39;00m\u001b[38;5;130;01m\\n\u001b[39;00m\u001b[38;5;124m\"\u001b[39m\n\u001b[1;32m     95\u001b[0m             \u001b[38;5;124mf\u001b[39m\u001b[38;5;124m\"\u001b[39m\u001b[38;5;124mPillow version: \u001b[39m\u001b[38;5;132;01m{\u001b[39;00m__version__\u001b[38;5;132;01m}\u001b[39;00m\u001b[38;5;124m\"\u001b[39m\n\u001b[1;32m     96\u001b[0m         )\n",
      "\u001b[0;31mImportError\u001b[0m: dlopen(/Users/ojo/Library/Python/3.8/lib/python/site-packages/PIL/_imaging.cpython-38-darwin.so, 2): Symbol not found: _xcb_connect\n  Referenced from: /Users/ojo/Library/Python/3.8/lib/python/site-packages/PIL/_imaging.cpython-38-darwin.so\n  Expected in: flat namespace\n in /Users/ojo/Library/Python/3.8/lib/python/site-packages/PIL/_imaging.cpython-38-darwin.so"
     ]
    }
   ],
   "source": [
    "# get_image_info.py\n",
    "\n",
    "from PIL import Image\n",
    "\n",
    "def get_image_info(path):\n",
    "    image = Image.open(path)\n",
    "    print(f'This image is {image.width} x {image.height}')\n",
    "    exif = image._getexif()\n",
    "    print(exif)\n",
    "\n",
    "get_image_info('ducks.jpg')"
   ]
  },
  {
   "cell_type": "markdown",
   "id": "ba5f0025",
   "metadata": {},
   "source": [
    "Here you get the width and height of the image using the image object. Then you use the _getexif() method to get metadata about your image. EXIF stands for \"Exchangeable image file format\" and is a standard that specifies the formats for images, sound, and ancillary tags used by digital cameras. The output is pretty verbose, but you can learn from that data that this particular photo was taken with a Sony 6300 camera with the following settings: \"E 18-200mm F3.5-6.3 OSS LE\". The timestamp for the photo is also in the Exif information."
   ]
  },
  {
   "cell_type": "markdown",
   "id": "5bc0eac7",
   "metadata": {},
   "source": [
    "## Cropping Images\n",
    "\n",
    "When you are taking photographs, all too often the subject of the photo will move or you didn't zoom in far enough. This results in a photo where the focus of the image isn't really front-and-center. To fix this issue, you can crop the image to that part of the image that you want to highlight.\n",
    "\n",
    "Pillow has this functionality built-in"
   ]
  },
  {
   "cell_type": "code",
   "execution_count": null,
   "id": "55741077",
   "metadata": {},
   "outputs": [],
   "source": [
    "# cropping.py\n",
    "\n",
    "from PIL import Image\n",
    "\n",
    "def crop_image(path, cropped_path):\n",
    "    image = Image.open(path)\n",
    "    cropped = image.crop((40, 590, 979, 1500))\n",
    "    cropped.save(cropped_path)\n",
    "    #cropped.open(cropped_path)\n",
    "    \n",
    "crop_image('ducks.jpg', 'ducks_cropped.jpg')\n",
    "cropped_image = Image.open('xyz.extension')\n",
    "cropped_image.show()"
   ]
  },
  {
   "cell_type": "markdown",
   "id": "c65a763e",
   "metadata": {},
   "source": [
    "## Merging two images together"
   ]
  },
  {
   "cell_type": "code",
   "execution_count": null,
   "id": "12ca6424",
   "metadata": {},
   "outputs": [],
   "source": [
    "from PIL import Image\n",
    "#Read the two images\n",
    "image1 = Image.open('abc.jpg')\n",
    "image1.show()\n",
    "image2 = Image.open('pqr.jpg')\n",
    "image2.show()\n",
    "#resize, first image\n",
    "image1 = image1.resize((426, 240))\n",
    "image1_size = image1.size\n",
    "image2_size = image2.size\n",
    "new_image = Image.new('RGB',(2*image1_size[0], image1_size[1]), (250,250,250))\n",
    "new_image.paste(image1,(0,0))\n",
    "new_image.paste(image2,(image1_size[0],0))\n",
    "new_image.save(\"merged_image.jpg\")\n",
    "new_image.show()"
   ]
  },
  {
   "cell_type": "markdown",
   "id": "c0562c74",
   "metadata": {},
   "source": [
    "## Blur an Image\n",
    "\n",
    "Blurring an image can be done by reducing the level of noise in the image by applying a filter to an image. Image blurring is one of the important aspects of image processing.\n",
    "\n",
    "The ImageFilter class in the Pillow library provides several standard image filters. Image filters can be applied to an image by calling the filter() method of Image object with required filter type as defined in the ImageFilter class.\n",
    "\n"
   ]
  },
  {
   "cell_type": "code",
   "execution_count": null,
   "id": "325623f3",
   "metadata": {},
   "outputs": [],
   "source": [
    "#Import required Image library\n",
    "from PIL import Image, ImageFilter\n",
    "\n",
    "#Open existing image\n",
    "original_image = Image.open('boy.jpg')\n",
    "\n",
    "#Display an existing image\n",
    "original_image.show()\n",
    "\n",
    "blur_image = original_image.filter(ImageFilter.BLUR)\n",
    "blur_image.show()\n",
    "\n",
    "#Save blurImage\n",
    "blur_image.save('blur_boy.jpg')"
   ]
  },
  {
   "cell_type": "markdown",
   "id": "a48ff9e1",
   "metadata": {},
   "source": [
    "## Working with PDF with Python\n",
    "\n",
    "The Portable Document Format, or PDF, is a file format that can be used to present and exchange documents reliably across operating systems. While the PDF was originally invented by Adobe, it is now an open standard that is maintained by the International Organization for Standardization (ISO). You can work with a preexisting PDF in Python by using the PyPDF2 package.\n",
    "\n",
    "PyPDF2 is a python library built as a PDF toolkit. It is capable of: \n",
    "- Extracting document information (title, author, …)\n",
    "- Splitting documents page by page\n",
    "- Merging documents page by page\n",
    "- Cropping pages\n",
    "- Merging multiple pages into a single page\n",
    "- Encrypting and decrypting PDF files\n",
    "- and more!\n",
    "\n",
    "## Installing PyPDF2\n",
    "\n",
    "```pip install pypdf2```"
   ]
  },
  {
   "cell_type": "code",
   "execution_count": null,
   "id": "9b6aa3f0",
   "metadata": {},
   "outputs": [],
   "source": [
    "from PyPDF2 import PdfFileReader\n",
    "\n",
    "def extract_information(pdf_path):\n",
    "    with open(pdf_path, 'rb') as f:\n",
    "        pdf = PdfFileReader(f)\n",
    "        information = pdf.getDocumentInfo()\n",
    "        number_of_pages = pdf.getNumPages()\n",
    "\n",
    "    txt = f\"\"\"\n",
    "    Information about {pdf_path}: \n",
    "\n",
    "    Author: {information.author}\n",
    "    Creator: {information.creator}\n",
    "    Producer: {information.producer}\n",
    "    Subject: {information.subject}\n",
    "    Title: {information.title}\n",
    "    Number of pages: {number_of_pages}\n",
    "    \"\"\"\n",
    "\n",
    "    print(txt)\n",
    "    return information\n",
    "\n",
    "\n",
    "extract_information('xyz.pdf')"
   ]
  },
  {
   "cell_type": "markdown",
   "id": "4c85e118",
   "metadata": {},
   "source": [
    "## How to Merge PDFs\n",
    "There are many situations where you will want to take two or more PDFs and merge them together into a single PDF. For example, you might have a standard cover page that needs to go on to many types of reports. You can use Python to help you do that sort of thing.\n",
    "\n",
    "For this example, you can open up a PDF and print a page out as a separate PDF. Then do that again, but with a different page. That will give you a couple of inputs to use for example purposes."
   ]
  },
  {
   "cell_type": "code",
   "execution_count": null,
   "id": "87ffb2f2",
   "metadata": {},
   "outputs": [],
   "source": [
    "from PyPDF2 import PdfFileReader, PdfFileWriter\n",
    "\n",
    "def merge_pdfs(paths, output):\n",
    "    pdf_writer = PdfFileWriter()\n",
    "\n",
    "    for path in paths:\n",
    "        pdf_reader = PdfFileReader(path)\n",
    "        for page in range(pdf_reader.getNumPages()):\n",
    "            # Add each page to the writer object\n",
    "            pdf_writer.addPage(pdf_reader.getPage(page))\n",
    "\n",
    "    # Write out the merged PDF\n",
    "    with open(output, 'wb') as out:\n",
    "        pdf_writer.write(out)\n",
    "\n",
    "\n",
    "paths = ['document1.pdf', 'document2.pdf']\n",
    "merge_pdfs(paths, 'merged.pdf')"
   ]
  },
  {
   "cell_type": "markdown",
   "id": "b30048ec",
   "metadata": {},
   "source": [
    "## How to Split PDFs\n",
    "\n",
    "There are times where you might have a PDF that you need to split up into multiple PDFs. This is especially true of PDFs that contain a lot of scanned-in content, but there are a plethora of good reasons for wanting to split a PDF.\n",
    "\n",
    "Here’s how you can use PyPDF2 to split your PDF into multiple files:"
   ]
  },
  {
   "cell_type": "code",
   "execution_count": null,
   "id": "168c6544",
   "metadata": {},
   "outputs": [],
   "source": [
    "from PyPDF2 import PdfFileReader, PdfFileWriter\n",
    "\n",
    "def split(path, name_of_split):\n",
    "    pdf = PdfFileReader(path)\n",
    "    for page in range(pdf.getNumPages()):\n",
    "        pdf_writer = PdfFileWriter()\n",
    "        pdf_writer.addPage(pdf.getPage(page))\n",
    "\n",
    "        output = f'{name_of_split}{page}.pdf'\n",
    "        with open(output, 'wb') as output_pdf:\n",
    "            pdf_writer.write(output_pdf)\n",
    "\n",
    "\n",
    "path = 'Jupyter_Notebook_An_Introduction.pdf'\n",
    "split(path, 'jupyter_page')"
   ]
  },
  {
   "cell_type": "markdown",
   "id": "d5c476a8",
   "metadata": {},
   "source": [
    "## How to Add Watermarks\n",
    "\n",
    "Watermarks are identifying images or patterns on printed and digital documents. Some watermarks can only be seen in special lighting conditions. The reason watermarking is important is that it allows you to protect your intellectual property, such as your images or PDFs. Another term for watermark is overlay.\n",
    "\n",
    "You can use Python and PyPDF2 to watermark your documents. You need to have a PDF that only contains your watermark image or text.\n",
    "\n",
    "Let’s learn how to add a watermark now:"
   ]
  },
  {
   "cell_type": "code",
   "execution_count": null,
   "id": "09ca4d59",
   "metadata": {},
   "outputs": [],
   "source": [
    "from PyPDF2 import PdfFileWriter, PdfFileReader\n",
    "\n",
    "def create_watermark(input_pdf, output, watermark):\n",
    "    watermark_obj = PdfFileReader(watermark)\n",
    "    watermark_page = watermark_obj.getPage(0)\n",
    "\n",
    "    pdf_reader = PdfFileReader(input_pdf)\n",
    "    pdf_writer = PdfFileWriter()\n",
    "\n",
    "    # Watermark all the pages\n",
    "    for page in range(pdf_reader.getNumPages()):\n",
    "        page = pdf_reader.getPage(page)\n",
    "        page.mergePage(watermark_page)\n",
    "        pdf_writer.addPage(page)\n",
    "\n",
    "    with open(output, 'wb') as out:\n",
    "        pdf_writer.write(out)\n",
    "\n",
    "create_watermark(\n",
    "        input_pdf='Jupyter_Notebook_An_Introduction.pdf', \n",
    "        output='watermarked_notebook.pdf',\n",
    "        watermark='watermark.pdf')"
   ]
  },
  {
   "cell_type": "markdown",
   "id": "0705f111",
   "metadata": {},
   "source": [
    "```create_watermark()``` accepts three arguments:\n",
    "- input_pdf: the PDF file path to be watermarked\n",
    "- output: the path you want to save the watermarked version of the PDF\n",
    "- watermark: a PDF that contains your watermark image or text\n",
    "\n",
    "In the code, you open up the watermark PDF and grab just the first page from the document as that is where your watermark should reside. Then you create a PDF reader object using the input_pdf and a generic pdf_writer object for writing out the watermarked PDF.\n",
    "\n",
    "The next step is to iterate over the pages in the input_pdf. This is where the magic happens. You will need to call .mergePage() and pass it the watermark_page. When you do that, it will overlay the watermark_page on top of the current page. Then you add that newly merged page to your pdf_writer object.\n",
    "\n",
    "Finally, you write the newly watermarked PDF out to disk, and you’re done!"
   ]
  },
  {
   "cell_type": "markdown",
   "id": "23bb9e6e",
   "metadata": {},
   "source": [
    "## How to Encrypt a PDF\n",
    "\n",
    "PyPDF2 currently only supports adding a user password and an owner password to a preexisting PDF. In PDF land, an owner password will basically give you administrator privileges over the PDF and allow you to set permissions on the document. On the other hand, the user password just allows you to open the document.\n",
    "\n",
    "As far as I can tell, PyPDF2 doesn’t actually allow you to set any permissions on the document even though it does allow you to set the owner password.\n",
    "\n",
    "Regardless, this is how you can add a password, which will also inherently encrypt the PDF"
   ]
  },
  {
   "cell_type": "code",
   "execution_count": null,
   "id": "b3f322ff",
   "metadata": {},
   "outputs": [],
   "source": [
    "from PyPDF2 import PdfFileWriter, PdfFileReader\n",
    "\n",
    "def add_encryption(input_pdf, output_pdf, password):\n",
    "    pdf_writer = PdfFileWriter()\n",
    "    pdf_reader = PdfFileReader(input_pdf)\n",
    "\n",
    "    for page in range(pdf_reader.getNumPages()):\n",
    "        pdf_writer.addPage(pdf_reader.getPage(page))\n",
    "\n",
    "    pdf_writer.encrypt(user_pwd=password, owner_pwd=None, \n",
    "                       use_128bit=True)\n",
    "\n",
    "    with open(output_pdf, 'wb') as fh:\n",
    "        pdf_writer.write(fh)\n",
    "\n",
    "add_encryption(input_pdf='reportlab-sample.pdf',\n",
    "                   output_pdf='reportlab-encrypted.pdf',\n",
    "                   password='dao@unionbankng')"
   ]
  },
  {
   "cell_type": "markdown",
   "id": "49785557",
   "metadata": {},
   "source": [
    "```add_encryption()``` takes in the input and output PDF paths as well as the password that you want to add to the PDF. It then opens a PDF writer and a reader object, as before. Since you will want to encrypt the entire input PDF, you will need to loop over all of its pages and add them to the writer.\n",
    "\n",
    "The final step is to call ```.encrypt()```, which takes the user password, the owner password, and whether or not 128-bit encryption should be added. The default is for 128-bit encryption to be turned on. If you set it to False, then 40-bit encryption will be applied instead"
   ]
  },
  {
   "cell_type": "markdown",
   "id": "546211a1",
   "metadata": {},
   "source": [
    "## Working with CSV in Python\n",
    "\n",
    "While we could use the built-in ```open()``` function to work with CSV files in Python, there is a dedicated csv module that makes working with CSV files much easier.\n",
    "\n",
    "Before we can use the methods to the csv module, we need to import the module first using:\n",
    "\n",
    "```import csv```\n",
    "\n",
    "## Reading CSV files Using csv.reader()\n",
    "\n",
    "To read a CSV file in Python, we can use the ```csv.reader()``` function\n"
   ]
  },
  {
   "cell_type": "code",
   "execution_count": null,
   "id": "5f0c8ef7",
   "metadata": {},
   "outputs": [],
   "source": [
    "import csv\n",
    "with open('xyz.csv', 'r') as file:\n",
    "    reader = csv.reader(file)\n",
    "    for row in reader:\n",
    "        print(row)"
   ]
  },
  {
   "cell_type": "markdown",
   "id": "4af54364",
   "metadata": {},
   "source": [
    "In the above example, we are using the csv.reader() function in default mode for CSV files having comma delimiter.\n",
    "\n",
    "However, the function is much more customizable.\n",
    "\n",
    "Suppose our CSV file was using tab as a delimiter. To read such files, we can pass optional parameters to the csv.reader() function. Let's take an example."
   ]
  },
  {
   "cell_type": "code",
   "execution_count": null,
   "id": "6ba20ca0",
   "metadata": {},
   "outputs": [],
   "source": [
    "import csv\n",
    "with open('people.csv', 'r',) as file:\n",
    "    reader = csv.reader(file, delimiter = '\\t')\n",
    "    for row in reader:\n",
    "        print(row)"
   ]
  },
  {
   "cell_type": "markdown",
   "id": "7766e3e0",
   "metadata": {},
   "source": [
    "## Writing CSV files Using csv.writer()\n",
    "\n",
    "To write to a CSV file in Python, we can use the csv.writer() function.\n",
    "\n",
    "The csv.writer() function returns a writer object that converts the user's data into a delimited string. This string can later be used to write into CSV files using the writerow() function. Let's take an example."
   ]
  },
  {
   "cell_type": "code",
   "execution_count": null,
   "id": "fff393a7",
   "metadata": {},
   "outputs": [],
   "source": [
    "import csv\n",
    "with open('protagonist.csv', 'w', newline='') as file:\n",
    "    writer = csv.writer(file)\n",
    "    writer.writerow([\"SN\", \"Movie\", \"Protagonist\"])\n",
    "    writer.writerow([1, \"Lord of the Rings\", \"Frodo Baggins\"])\n",
    "    writer.writerow([2, \"Harry Potter\", \"Harry Potter\"])"
   ]
  }
 ],
 "metadata": {
  "kernelspec": {
   "display_name": "Python 3 (ipykernel)",
   "language": "python",
   "name": "python3"
  },
  "language_info": {
   "codemirror_mode": {
    "name": "ipython",
    "version": 3
   },
   "file_extension": ".py",
   "mimetype": "text/x-python",
   "name": "python",
   "nbconvert_exporter": "python",
   "pygments_lexer": "ipython3",
   "version": "3.8.9"
  }
 },
 "nbformat": 4,
 "nbformat_minor": 5
}
