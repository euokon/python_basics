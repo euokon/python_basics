{
 "cells": [
  {
   "cell_type": "markdown",
   "metadata": {},
   "source": [
    "# Comparison Operators in Python\n",
    "\n",
    "## What are Operators in Python?\n",
    "\n",
    " - Operators are special  symbols in Python that carry out some specific computations. The value the operator operates on is called the operand.\n",
    " \n",
    " - There are five types of operators in python – Arithmetic operator, Comparison operator, Logical operators, Bitwise operators, Assignment operators, Special operators (Identity and membership operators).\n",
    " \n",
    " - Arithmetic operators are used to perform mathematical operations like addition, subtraction, division, etc.\n",
    "\n",
    " "
   ]
  },
  {
   "cell_type": "markdown",
   "metadata": {},
   "source": [
    "## What are Comparison Operators in Python \n",
    "- As the name implies, comparison operators are used to compare values. It returns a Boolean – TRUE or FALSE according to the condition.  \n",
    "- Comparison operators are not restricted to numeric types but can also compare sequence types, set types, and Boolean values.\n",
    "\n",
    "<table style=\"margin-right: 750px; width:75%\">\n",
    "  <tr>\n",
    "    <td>Operator </td>\n",
    "    <td>Meaning</td>  \n",
    "  </tr>\n",
    "  <tr>\n",
    "    <td>></td>\n",
    "    <td>Greater than – True if left operand is greater than right\n",
    "    </td>   \n",
    "  </tr>\n",
    "  <tr>\n",
    "    <td> &lt;</td>\n",
    "    <td>Less than – True if left operand is less than right \n",
    "    </td>   \n",
    "  </tr>\n",
    "  <tr>\n",
    "    <td> == </td>\n",
    "    <td>Equal to – True if both operands are equal\n",
    "    </td>   \n",
    "  </tr>\n",
    "  <tr>\n",
    "      <td> !=  </td>\n",
    "      <td> Not Equal to – True if operands are not equal </td>\n",
    "  </tr>\n",
    "  <tr>\n",
    "      <td> >= </td>\n",
    "      <td> Greater than or equal to – True if left operand is greater than or equal to the right</td>\n",
    "  </tr>\n",
    "  <tr>\n",
    "      <td> &le; </td>\n",
    "      <td> Less than or equal to – True if left operand is less than or equal to the right </td>\n",
    "</table>\n",
    "\n",
    "\n",
    "    "
   ]
  },
  {
   "cell_type": "markdown",
   "metadata": {},
   "source": [
    "## Examples of Comparison Operators\n",
    "\n",
    "- Let us assign some values to some variables say \"a\" and \"b\"\n"
   ]
  },
  {
   "cell_type": "code",
   "execution_count": 1,
   "metadata": {},
   "outputs": [
    {
     "name": "stdout",
     "output_type": "stream",
     "text": [
      "a > b is False\n",
      "a < b is True\n",
      "a == b is False\n",
      "a !=b is True\n",
      "a >= b is False\n",
      "a <= b is True\n"
     ]
    }
   ],
   "source": [
    "a = 100\n",
    "b = 1000\n",
    "print('a > b is', a > b)\n",
    "print('a < b is', a < b)\n",
    "print('a == b is', a == b)\n",
    "print('a !=b is', a != b)\n",
    "print('a >= b is', a >= b)\n",
    "print('a <= b is', a <= b)\n"
   ]
  },
  {
   "cell_type": "markdown",
   "metadata": {},
   "source": [
    "## What are Chaining Comparison Operators in Python with Logical Operators in Python?!\n",
    "\n",
    "- Logical opeartors are the __and__, __or__, __not__ operators \n",
    "\n",
    "<table style=\"margin-right: 750px; width:75%\">\n",
    "  <tr style=\"color:blue\">\n",
    "    <td>Operator </td>\n",
    "    <td>Meaning</td>  \n",
    "  </tr>\n",
    "  <tr>\n",
    "    <td>and</td>\n",
    "    <td>True if both operands are true\n",
    "    </td>   \n",
    "  </tr>\n",
    "  <tr>\n",
    "    <td> or </td>\n",
    "    <td>True if either of the operands is true \n",
    "    </td>   \n",
    "  </tr>\n",
    "  <tr>\n",
    "      <td> not </td>\n",
    "      <td> True if operand is false (complements the operand) </td>\n",
    "  </tr>\n",
    "</table>\n"
   ]
  },
  {
   "cell_type": "markdown",
   "metadata": {},
   "source": [
    "## What are Chaining Comparison Operators in Python with Logical Operators in Python?\n",
    "\n",
    "- For instance"
   ]
  },
  {
   "cell_type": "code",
   "execution_count": 2,
   "metadata": {},
   "outputs": [
    {
     "name": "stdout",
     "output_type": "stream",
     "text": [
      "a and b is False\n",
      "a or b is True\n",
      "not a is  False\n"
     ]
    }
   ],
   "source": [
    "a = True\n",
    "b = False\n",
    "\n",
    "print('a and b is', a and b)\n",
    "print('a or b is', b or a )\n",
    "print('not a is ', not a)\n"
   ]
  },
  {
   "cell_type": "markdown",
   "metadata": {},
   "source": [
    "- Usually, comparison operators are combined using logical operators to form conditional statements"
   ]
  },
  {
   "cell_type": "markdown",
   "metadata": {},
   "source": [
    "## What are Chaining Comparison Operators  with Logical Operators in Python?\n",
    "\n",
    "#### Chaining in Comparison Operators:\n",
    " - Comparisons yield Boolean values: True or False\n",
    " - Comparisons can be chained arbitrarily. For instance:\n",
    " - x < y< =z is equivalent to x<y and y <=z except that y is evaluated __only__ once."
   ]
  },
  {
   "cell_type": "code",
   "execution_count": 6,
   "metadata": {},
   "outputs": [
    {
     "name": "stdout",
     "output_type": "stream",
     "text": [
      "True\n"
     ]
    }
   ],
   "source": [
    "x = 5\n",
    "print(1 < x < 10)\n",
    "print(10 < x < 20)\n",
    "print(x < 10 < x*10 < 100)\n",
    "print(10 > x <= 9)\n",
    "print(5 == x > 4)\n",
    "\n"
   ]
  },
  {
   "cell_type": "markdown",
   "metadata": {},
   "source": [
    "## If, Elif and Else Statements in Python\n",
    "\n",
    "Decision making is required to execute a code only if a certain condition is satisfied. The __if__...__elif...__else__ is used in python for decision making\n",
    "\n",
    "- if statement syntax in python \n",
    "- if test expression:\n",
    "\n",
    "    statement(s)\n",
    "    \n",
    "- Here, the program evaluates the test expression and will execute statement(s) only if the test expression is True. If the test expression is False, the statement(s) is not executed.\n"
   ]
  },
  {
   "cell_type": "markdown",
   "metadata": {},
   "source": [
    "## Example of if statement in python\n",
    "- A simple example of an if statement.\n",
    "- The few lines of code below checks is a number is positive"
   ]
  },
  {
   "cell_type": "code",
   "execution_count": 9,
   "metadata": {},
   "outputs": [
    {
     "name": "stdout",
     "output_type": "stream",
     "text": [
      "Enter an integer here: -9\n",
      "I am always here! \n"
     ]
    }
   ],
   "source": [
    "number = int(input(\"Enter an integer here: \"))\n",
    "if number > 0:\n",
    "    print(number, \" is a positive number\")\n",
    "print(\"I am always here! \")"
   ]
  },
  {
   "cell_type": "code",
   "execution_count": 11,
   "metadata": {},
   "outputs": [
    {
     "name": "stdout",
     "output_type": "stream",
     "text": [
      "This is always printed\n"
     ]
    }
   ],
   "source": [
    "num = -1 \n",
    "if num > 0:\n",
    "    print(num, \" is a positive number\")\n",
    "print(\"This is always printed\")"
   ]
  },
  {
   "cell_type": "markdown",
   "metadata": {},
   "source": [
    "## Example of if..else statement in python\n",
    "\n",
    "- This program checks if a number is positive or negative and displays an appropriate message"
   ]
  },
  {
   "cell_type": "code",
   "execution_count": 14,
   "metadata": {},
   "outputs": [
    {
     "name": "stdout",
     "output_type": "stream",
     "text": [
      "Enter an integer here: 0\n",
      "0  is zero\n"
     ]
    }
   ],
   "source": [
    "num = int(input(\"Enter an integer here: \"))\n",
    "if num >0:\n",
    "    print(num, \" is Positive\")\n",
    "if num == 0:\n",
    "    print(num, \" is zero\" )\n",
    "else:\n",
    "    print(\"Negative number\")\n"
   ]
  },
  {
   "cell_type": "markdown",
   "metadata": {},
   "source": [
    "## Example of if...elif...else statement in python\n",
    "- Below is the if..elif..else syntax\n",
    "\n",
    "if text expression:\n",
    "    Body of it\n",
    "elif test expression:\n",
    "    Body of elif\n",
    "else:\n",
    "    Body of else\n",
    "    \n",
    "The elif is short for else if. It allows to check for multiple expressions. If the condition for if is False, it checks the condition of the next elif block and so on.\n",
    "\n",
    "- The if block can have only one else block. But if block can have multiple __elif__ blocks.\n",
    "\n"
   ]
  },
  {
   "cell_type": "code",
   "execution_count": 19,
   "metadata": {},
   "outputs": [
    {
     "name": "stdout",
     "output_type": "stream",
     "text": [
      "70  is a positive number\n",
      "70  is Zero\n"
     ]
    }
   ],
   "source": [
    "num = 70\n",
    "\n",
    "if num > 0:\n",
    "    print(num, \" is a positive number\")\n",
    "elif num == 0:\n",
    "    print(num, \" is Zero\")\n",
    "else:\n",
    "    print(num, \" is a negative number\")"
   ]
  },
  {
   "cell_type": "code",
   "execution_count": 24,
   "metadata": {},
   "outputs": [
    {
     "name": "stdout",
     "output_type": "stream",
     "text": [
      "Enter an integer here: 22\n",
      "Condition 1 met\n",
      "You are an adult\n"
     ]
    }
   ],
   "source": [
    "num = int(input(\"Enter an integer here: \"))\n",
    "\n",
    "if num > 13:\n",
    "    print(\"Condition 1 met\")\n",
    "    if num >=18:\n",
    "        print(\"You are an adult\")\n",
    "else:\n",
    "    print(\"I don't know what I am doing\")"
   ]
  },
  {
   "cell_type": "code",
   "execution_count": 30,
   "metadata": {},
   "outputs": [
    {
     "name": "stdout",
     "output_type": "stream",
     "text": [
      "Enter your nationality here: ghanian\n",
      "Enter your age here please:29\n",
      "Ghana must go\n"
     ]
    }
   ],
   "source": [
    "citizenship = \"nigerian\"\n",
    "age = 18\n",
    "\n",
    "user_citizenship = input(\"Enter your nationality here: \")\n",
    "user_age = int(input(\"Enter your age here please:\"))\n",
    "if user_citizenship == citizenship and user_age >= age:\n",
    "    print(\"You are eligible to vote in Nigeria\")\n",
    "else:\n",
    "    print(\"Ghana must go\")"
   ]
  },
  {
   "cell_type": "markdown",
   "metadata": {},
   "source": [
    "## For Loops in Python\n",
    "\n",
    "- The for loop in python is used to iterate over a sequence(list, tuple, string) or other iterable objects. Iterating over a sequence is called __traversal__\n",
    "\n",
    "#### Syntax of For loop\n",
    " for val in sequence:\n",
    "     loop body\n",
    "     \n",
    "- Here, val is the variable that makes the value of the item inside the sequence on each iteration.\n",
    "\n",
    "- Loop continues until we reach the last item in the sequence."
   ]
  },
  {
   "cell_type": "markdown",
   "metadata": {},
   "source": [
    "## For Loops in Python Example"
   ]
  },
  {
   "cell_type": "code",
   "execution_count": 34,
   "metadata": {},
   "outputs": [
    {
     "name": "stdout",
     "output_type": "stream",
     "text": [
      "These are the values of i 2\n",
      "These are the values of i 4\n",
      "These are the values of i 6\n",
      "These are the values of i 8\n",
      "These are the values of i 10\n",
      "These are the values of i 12\n",
      "These are the values of i 14\n",
      "These are the values of i 16\n",
      "These are the values of i 18\n",
      "These are the values of i 20\n"
     ]
    }
   ],
   "source": [
    "for i in range(1, 11):\n",
    "    i += i\n",
    "    print(\"These are the values of i\", i)"
   ]
  },
  {
   "cell_type": "code",
   "execution_count": 38,
   "metadata": {},
   "outputs": [
    {
     "name": "stdout",
     "output_type": "stream",
     "text": [
      "I like  afrobeat\n",
      "I like  rock\n",
      "I like  jazzz\n",
      "I like  fuji\n"
     ]
    }
   ],
   "source": [
    "genre = ['pop', 'rock', 'jazzz']\n",
    "genre.append('fuji')\n",
    "genre[0] = 'afrobeat'\n",
    "\n",
    "for i in range(len(genre)):\n",
    "    print(\"I like \", genre[i])"
   ]
  },
  {
   "cell_type": "markdown",
   "metadata": {},
   "source": [
    "## While Loops in Python\n",
    "\n",
    "- The while loop in Python is used to iterate over a block of code as long as the test expression (condition) is true. We generally use this loop when we don’t know the number of times to iterate beforehand.\n",
    "\n",
    "- Syntax of while loop in python \n",
    "\n",
    "        while test expression:\n",
    "            Body of while\n",
    "            \n",
    "- In the while loop, test expression is checked first. The body of the loop is entered only if the __test_expression__ evaluates to __True__. After one iteration, the test expression is checked again. This process continues until the test expression evaluates to __False__\n"
   ]
  },
  {
   "cell_type": "markdown",
   "metadata": {},
   "source": [
    "## While Loops in Python Example"
   ]
  },
  {
   "cell_type": "code",
   "execution_count": 40,
   "metadata": {},
   "outputs": [
    {
     "name": "stdout",
     "output_type": "stream",
     "text": [
      "The sum is and i is  1 2\n",
      "The sum is and i is  3 3\n",
      "The sum is and i is  6 4\n",
      "The sum is and i is  10 5\n",
      "The sum is and i is  15 6\n",
      "The sum is and i is  21 7\n",
      "The sum is and i is  28 8\n",
      "The sum is and i is  36 9\n",
      "The sum is and i is  45 10\n",
      "The sum is and i is  55 11\n"
     ]
    }
   ],
   "source": [
    "n = 10\n",
    "sum_value = 0 \n",
    "i = 1\n",
    "\n",
    "while i <= n:\n",
    "    sum_value = sum_value + i\n",
    "    i = i +1 \n",
    "    \n",
    "    print(\"The sum is and i is \", sum_value, i)\n"
   ]
  },
  {
   "cell_type": "markdown",
   "metadata": {},
   "source": [
    "## List Comprehensions in Python\n",
    "\n",
    "- List comprehension is an elegant way to define and create lists based on existing lists.\n",
    "\n",
    "- Syntax of List Comprehension\n",
    "   - [expression for item in list]\n",
    " - Iterating through a string using List comprehension\n",
    " "
   ]
  },
  {
   "cell_type": "code",
   "execution_count": 19,
   "metadata": {},
   "outputs": [
    {
     "name": "stdout",
     "output_type": "stream",
     "text": [
      "['h', 'u', 'm', 'a', 'n']\n"
     ]
    }
   ],
   "source": [
    "h_letters = [letter for letter in 'human']\n",
    "print(h_letters)"
   ]
  },
  {
   "cell_type": "markdown",
   "metadata": {},
   "source": [
    " ## Conditionals in List Comprehension"
   ]
  },
  {
   "cell_type": "code",
   "execution_count": 20,
   "metadata": {},
   "outputs": [
    {
     "name": "stdout",
     "output_type": "stream",
     "text": [
      "[0, 2, 4, 6, 8, 10, 12, 14, 16, 18]\n"
     ]
    }
   ],
   "source": [
    "number_list = [x for x in range(20) if x % 2 == 0]\n",
    "print(number_list)"
   ]
  },
  {
   "cell_type": "markdown",
   "metadata": {},
   "source": [
    "## Exercise\n",
    "- Build a guessing game and push to a repository\n"
   ]
  },
  {
   "cell_type": "markdown",
   "metadata": {},
   "source": [
    "# Questions?"
   ]
  },
  {
   "cell_type": "markdown",
   "metadata": {},
   "source": [
    "# Gracias!!!"
   ]
  },
  {
   "cell_type": "code",
   "execution_count": null,
   "metadata": {},
   "outputs": [],
   "source": []
  }
 ],
 "metadata": {
  "kernelspec": {
   "display_name": "Python 3",
   "language": "python",
   "name": "python3"
  },
  "language_info": {
   "codemirror_mode": {
    "name": "ipython",
    "version": 3
   },
   "file_extension": ".py",
   "mimetype": "text/x-python",
   "name": "python",
   "nbconvert_exporter": "python",
   "pygments_lexer": "ipython3",
   "version": "3.7.6"
  }
 },
 "nbformat": 4,
 "nbformat_minor": 5
}
